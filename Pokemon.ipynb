{
  "nbformat": 4,
  "nbformat_minor": 0,
  "metadata": {
    "colab": {
      "name": "Pokemon.ipynb",
      "provenance": [],
      "collapsed_sections": [],
      "toc_visible": true
    },
    "kernelspec": {
      "name": "python3",
      "display_name": "Python 3"
    }
  },
  "cells": [
    {
      "cell_type": "markdown",
      "metadata": {
        "id": "jAmlfhc6-e9s"
      },
      "source": [
        "vastav\n"
      ]
    },
    {
      "cell_type": "markdown",
      "metadata": {
        "id": "zV2o-2VHl5VM"
      },
      "source": [
        "# Importing Data"
      ]
    },
    {
      "cell_type": "code",
      "metadata": {
        "id": "0qfwUIF73azE"
      },
      "source": [
        "import pandas as pd\n",
        "import numpy as np"
      ],
      "execution_count": null,
      "outputs": []
    },
    {
      "cell_type": "code",
      "metadata": {
        "id": "Oe_2lUrk3yeV",
        "colab": {
          "base_uri": "https://localhost:8080/",
          "height": 422
        },
        "outputId": "0d013bbf-0d64-40b2-b2f1-cfecda20d4ec"
      },
      "source": [
        "data= pd.read_csv('pokemon_alopez247.csv')\n",
        "data"
      ],
      "execution_count": null,
      "outputs": [
        {
          "output_type": "execute_result",
          "data": {
            "text/html": [
              "<div>\n",
              "<style scoped>\n",
              "    .dataframe tbody tr th:only-of-type {\n",
              "        vertical-align: middle;\n",
              "    }\n",
              "\n",
              "    .dataframe tbody tr th {\n",
              "        vertical-align: top;\n",
              "    }\n",
              "\n",
              "    .dataframe thead th {\n",
              "        text-align: right;\n",
              "    }\n",
              "</style>\n",
              "<table border=\"1\" class=\"dataframe\">\n",
              "  <thead>\n",
              "    <tr style=\"text-align: right;\">\n",
              "      <th></th>\n",
              "      <th>Number</th>\n",
              "      <th>Name</th>\n",
              "      <th>Type_1</th>\n",
              "      <th>Type_2</th>\n",
              "      <th>Total</th>\n",
              "      <th>HP</th>\n",
              "      <th>Attack</th>\n",
              "      <th>Defense</th>\n",
              "      <th>Sp_Atk</th>\n",
              "      <th>Sp_Def</th>\n",
              "      <th>Speed</th>\n",
              "      <th>Generation</th>\n",
              "      <th>isLegendary</th>\n",
              "      <th>Color</th>\n",
              "      <th>hasGender</th>\n",
              "      <th>Pr_Male</th>\n",
              "      <th>Egg_Group_1</th>\n",
              "      <th>Egg_Group_2</th>\n",
              "      <th>hasMegaEvolution</th>\n",
              "      <th>Height_m</th>\n",
              "      <th>Weight_kg</th>\n",
              "      <th>Catch_Rate</th>\n",
              "      <th>Body_Style</th>\n",
              "    </tr>\n",
              "  </thead>\n",
              "  <tbody>\n",
              "    <tr>\n",
              "      <th>0</th>\n",
              "      <td>1</td>\n",
              "      <td>Bulbasaur</td>\n",
              "      <td>Grass</td>\n",
              "      <td>Poison</td>\n",
              "      <td>318.0</td>\n",
              "      <td>45.0</td>\n",
              "      <td>49.0</td>\n",
              "      <td>49.0</td>\n",
              "      <td>65.0</td>\n",
              "      <td>65.0</td>\n",
              "      <td>45.0</td>\n",
              "      <td>1</td>\n",
              "      <td>False</td>\n",
              "      <td>Green</td>\n",
              "      <td>True</td>\n",
              "      <td>0.875</td>\n",
              "      <td>Monster</td>\n",
              "      <td>Grass</td>\n",
              "      <td>False</td>\n",
              "      <td>0.71</td>\n",
              "      <td>6.9</td>\n",
              "      <td>45</td>\n",
              "      <td>quadruped</td>\n",
              "    </tr>\n",
              "    <tr>\n",
              "      <th>1</th>\n",
              "      <td>2</td>\n",
              "      <td>Ivysaur</td>\n",
              "      <td>Grass</td>\n",
              "      <td>Poison</td>\n",
              "      <td>405.0</td>\n",
              "      <td>60.0</td>\n",
              "      <td>62.0</td>\n",
              "      <td>63.0</td>\n",
              "      <td>80.0</td>\n",
              "      <td>80.0</td>\n",
              "      <td>60.0</td>\n",
              "      <td>1</td>\n",
              "      <td>False</td>\n",
              "      <td>Green</td>\n",
              "      <td>True</td>\n",
              "      <td>0.875</td>\n",
              "      <td>Monster</td>\n",
              "      <td>Grass</td>\n",
              "      <td>False</td>\n",
              "      <td>0.99</td>\n",
              "      <td>13.0</td>\n",
              "      <td>45</td>\n",
              "      <td>quadruped</td>\n",
              "    </tr>\n",
              "    <tr>\n",
              "      <th>2</th>\n",
              "      <td>3</td>\n",
              "      <td>Venusaur</td>\n",
              "      <td>Grass</td>\n",
              "      <td>Poison</td>\n",
              "      <td>525.0</td>\n",
              "      <td>80.0</td>\n",
              "      <td>82.0</td>\n",
              "      <td>83.0</td>\n",
              "      <td>100.0</td>\n",
              "      <td>100.0</td>\n",
              "      <td>80.0</td>\n",
              "      <td>1</td>\n",
              "      <td>False</td>\n",
              "      <td>Green</td>\n",
              "      <td>True</td>\n",
              "      <td>0.875</td>\n",
              "      <td>Monster</td>\n",
              "      <td>Grass</td>\n",
              "      <td>True</td>\n",
              "      <td>2.01</td>\n",
              "      <td>100.0</td>\n",
              "      <td>45</td>\n",
              "      <td>quadruped</td>\n",
              "    </tr>\n",
              "    <tr>\n",
              "      <th>3</th>\n",
              "      <td>4</td>\n",
              "      <td>Charmander</td>\n",
              "      <td>Fire</td>\n",
              "      <td>NaN</td>\n",
              "      <td>309.0</td>\n",
              "      <td>39.0</td>\n",
              "      <td>52.0</td>\n",
              "      <td>43.0</td>\n",
              "      <td>60.0</td>\n",
              "      <td>50.0</td>\n",
              "      <td>NaN</td>\n",
              "      <td>1</td>\n",
              "      <td>False</td>\n",
              "      <td>Red</td>\n",
              "      <td>True</td>\n",
              "      <td>0.875</td>\n",
              "      <td>Monster</td>\n",
              "      <td>Dragon</td>\n",
              "      <td>False</td>\n",
              "      <td>0.61</td>\n",
              "      <td>8.5</td>\n",
              "      <td>45</td>\n",
              "      <td>bipedal_tailed</td>\n",
              "    </tr>\n",
              "    <tr>\n",
              "      <th>4</th>\n",
              "      <td>5</td>\n",
              "      <td>Charmeleon</td>\n",
              "      <td>Fire</td>\n",
              "      <td>NaN</td>\n",
              "      <td>NaN</td>\n",
              "      <td>58.0</td>\n",
              "      <td>64.0</td>\n",
              "      <td>58.0</td>\n",
              "      <td>80.0</td>\n",
              "      <td>65.0</td>\n",
              "      <td>80.0</td>\n",
              "      <td>1</td>\n",
              "      <td>False</td>\n",
              "      <td>Red</td>\n",
              "      <td>True</td>\n",
              "      <td>0.875</td>\n",
              "      <td>Monster</td>\n",
              "      <td>Dragon</td>\n",
              "      <td>False</td>\n",
              "      <td>1.09</td>\n",
              "      <td>19.0</td>\n",
              "      <td>45</td>\n",
              "      <td>bipedal_tailed</td>\n",
              "    </tr>\n",
              "    <tr>\n",
              "      <th>...</th>\n",
              "      <td>...</td>\n",
              "      <td>...</td>\n",
              "      <td>...</td>\n",
              "      <td>...</td>\n",
              "      <td>...</td>\n",
              "      <td>...</td>\n",
              "      <td>...</td>\n",
              "      <td>...</td>\n",
              "      <td>...</td>\n",
              "      <td>...</td>\n",
              "      <td>...</td>\n",
              "      <td>...</td>\n",
              "      <td>...</td>\n",
              "      <td>...</td>\n",
              "      <td>...</td>\n",
              "      <td>...</td>\n",
              "      <td>...</td>\n",
              "      <td>...</td>\n",
              "      <td>...</td>\n",
              "      <td>...</td>\n",
              "      <td>...</td>\n",
              "      <td>...</td>\n",
              "      <td>...</td>\n",
              "    </tr>\n",
              "    <tr>\n",
              "      <th>716</th>\n",
              "      <td>717</td>\n",
              "      <td>Yveltal</td>\n",
              "      <td>Dark</td>\n",
              "      <td>Flying</td>\n",
              "      <td>680.0</td>\n",
              "      <td>126.0</td>\n",
              "      <td>131.0</td>\n",
              "      <td>95.0</td>\n",
              "      <td>131.0</td>\n",
              "      <td>98.0</td>\n",
              "      <td>99.0</td>\n",
              "      <td>6</td>\n",
              "      <td>True</td>\n",
              "      <td>Red</td>\n",
              "      <td>False</td>\n",
              "      <td>NaN</td>\n",
              "      <td>Undiscovered</td>\n",
              "      <td>NaN</td>\n",
              "      <td>False</td>\n",
              "      <td>5.79</td>\n",
              "      <td>203.0</td>\n",
              "      <td>45</td>\n",
              "      <td>two_wings</td>\n",
              "    </tr>\n",
              "    <tr>\n",
              "      <th>717</th>\n",
              "      <td>718</td>\n",
              "      <td>Zygarde</td>\n",
              "      <td>Dragon</td>\n",
              "      <td>Ground</td>\n",
              "      <td>600.0</td>\n",
              "      <td>108.0</td>\n",
              "      <td>100.0</td>\n",
              "      <td>121.0</td>\n",
              "      <td>81.0</td>\n",
              "      <td>95.0</td>\n",
              "      <td>95.0</td>\n",
              "      <td>6</td>\n",
              "      <td>True</td>\n",
              "      <td>Green</td>\n",
              "      <td>False</td>\n",
              "      <td>NaN</td>\n",
              "      <td>Undiscovered</td>\n",
              "      <td>NaN</td>\n",
              "      <td>False</td>\n",
              "      <td>5.00</td>\n",
              "      <td>305.0</td>\n",
              "      <td>3</td>\n",
              "      <td>serpentine_body</td>\n",
              "    </tr>\n",
              "    <tr>\n",
              "      <th>718</th>\n",
              "      <td>719</td>\n",
              "      <td>Diancie</td>\n",
              "      <td>Rock</td>\n",
              "      <td>Fairy</td>\n",
              "      <td>600.0</td>\n",
              "      <td>50.0</td>\n",
              "      <td>100.0</td>\n",
              "      <td>150.0</td>\n",
              "      <td>100.0</td>\n",
              "      <td>150.0</td>\n",
              "      <td>50.0</td>\n",
              "      <td>6</td>\n",
              "      <td>True</td>\n",
              "      <td>Pink</td>\n",
              "      <td>False</td>\n",
              "      <td>NaN</td>\n",
              "      <td>Undiscovered</td>\n",
              "      <td>NaN</td>\n",
              "      <td>True</td>\n",
              "      <td>0.71</td>\n",
              "      <td>8.8</td>\n",
              "      <td>3</td>\n",
              "      <td>head_arms</td>\n",
              "    </tr>\n",
              "    <tr>\n",
              "      <th>719</th>\n",
              "      <td>720</td>\n",
              "      <td>Hoopa</td>\n",
              "      <td>Psychic</td>\n",
              "      <td>Ghost</td>\n",
              "      <td>600.0</td>\n",
              "      <td>80.0</td>\n",
              "      <td>110.0</td>\n",
              "      <td>60.0</td>\n",
              "      <td>150.0</td>\n",
              "      <td>130.0</td>\n",
              "      <td>70.0</td>\n",
              "      <td>6</td>\n",
              "      <td>True</td>\n",
              "      <td>Purple</td>\n",
              "      <td>False</td>\n",
              "      <td>NaN</td>\n",
              "      <td>Undiscovered</td>\n",
              "      <td>NaN</td>\n",
              "      <td>False</td>\n",
              "      <td>0.51</td>\n",
              "      <td>9.0</td>\n",
              "      <td>3</td>\n",
              "      <td>head_only</td>\n",
              "    </tr>\n",
              "    <tr>\n",
              "      <th>720</th>\n",
              "      <td>721</td>\n",
              "      <td>Volcanion</td>\n",
              "      <td>Fire</td>\n",
              "      <td>Water</td>\n",
              "      <td>600.0</td>\n",
              "      <td>80.0</td>\n",
              "      <td>110.0</td>\n",
              "      <td>120.0</td>\n",
              "      <td>130.0</td>\n",
              "      <td>90.0</td>\n",
              "      <td>70.0</td>\n",
              "      <td>6</td>\n",
              "      <td>True</td>\n",
              "      <td>Brown</td>\n",
              "      <td>False</td>\n",
              "      <td>NaN</td>\n",
              "      <td>Undiscovered</td>\n",
              "      <td>NaN</td>\n",
              "      <td>False</td>\n",
              "      <td>1.70</td>\n",
              "      <td>195.0</td>\n",
              "      <td>3</td>\n",
              "      <td>quadruped</td>\n",
              "    </tr>\n",
              "  </tbody>\n",
              "</table>\n",
              "<p>721 rows × 23 columns</p>\n",
              "</div>"
            ],
            "text/plain": [
              "     Number        Name   Type_1  ... Weight_kg  Catch_Rate       Body_Style\n",
              "0         1   Bulbasaur    Grass  ...       6.9          45        quadruped\n",
              "1         2     Ivysaur    Grass  ...      13.0          45        quadruped\n",
              "2         3    Venusaur    Grass  ...     100.0          45        quadruped\n",
              "3         4  Charmander     Fire  ...       8.5          45   bipedal_tailed\n",
              "4         5  Charmeleon     Fire  ...      19.0          45   bipedal_tailed\n",
              "..      ...         ...      ...  ...       ...         ...              ...\n",
              "716     717     Yveltal     Dark  ...     203.0          45        two_wings\n",
              "717     718     Zygarde   Dragon  ...     305.0           3  serpentine_body\n",
              "718     719     Diancie     Rock  ...       8.8           3        head_arms\n",
              "719     720       Hoopa  Psychic  ...       9.0           3        head_only\n",
              "720     721   Volcanion     Fire  ...     195.0           3        quadruped\n",
              "\n",
              "[721 rows x 23 columns]"
            ]
          },
          "metadata": {
            "tags": []
          },
          "execution_count": 21
        }
      ]
    },
    {
      "cell_type": "markdown",
      "metadata": {
        "id": "V4AD36Tpk3NH"
      },
      "source": [
        "# Visual Presentation of the dataset missing values and target column"
      ]
    },
    {
      "cell_type": "code",
      "metadata": {
        "colab": {
          "base_uri": "https://localhost:8080/",
          "height": 368
        },
        "id": "0CxsmV-XHVJZ",
        "outputId": "5a411c16-5c5b-4013-be38-921727d73832"
      },
      "source": [
        "import seaborn as sn\n",
        "sn.heatmap(data.isnull())"
      ],
      "execution_count": null,
      "outputs": [
        {
          "output_type": "execute_result",
          "data": {
            "text/plain": [
              "<matplotlib.axes._subplots.AxesSubplot at 0x7f71bce5f3c8>"
            ]
          },
          "metadata": {
            "tags": []
          },
          "execution_count": 208
        },
        {
          "output_type": "display_data",
          "data": {
            "image/png": "[encoded data removed]",
            "text/plain": [
              "<Figure size 432x288 with 2 Axes>"
            ]
          },
          "metadata": {
            "tags": [],
            "needs_background": "light"
          }
        }
      ]
    },
    {
      "cell_type": "markdown",
      "metadata": {
        "id": "XSHeEFWBmL7B"
      },
      "source": [
        "Our Target Column is Type 1"
      ]
    },
    {
      "cell_type": "code",
      "metadata": {
        "colab": {
          "base_uri": "https://localhost:8080/",
          "height": 593
        },
        "id": "hTPoeHwqli5B",
        "outputId": "c31b46c6-a767-4811-cd27-b85bab67a72e"
      },
      "source": [
        "data.groupby('Type_1').size().plot(kind='pie', autopct='%.2f',figsize=(10, 10))"
      ],
      "execution_count": null,
      "outputs": [
        {
          "output_type": "execute_result",
          "data": {
            "text/plain": [
              "<matplotlib.axes._subplots.AxesSubplot at 0x7ff60ab0bfd0>"
            ]
          },
          "metadata": {
            "tags": []
          },
          "execution_count": 26
        },
        {
          "output_type": "display_data",
          "data": {
            "image/png": "[encoded data removed]",
            "text/plain": [
              "<Figure size 720x720 with 1 Axes>"
            ]
          },
          "metadata": {
            "tags": []
          }
        }
      ]
    },
    {
      "cell_type": "markdown",
      "metadata": {
        "id": "4mm0v8xAGjuX"
      },
      "source": [
        "# Required processing"
      ]
    },
    {
      "cell_type": "markdown",
      "metadata": {
        "id": "ygSeM8c60mxs"
      },
      "source": [
        "There are 721 unique values in Number"
      ]
    },
    {
      "cell_type": "code",
      "metadata": {
        "id": "xGED8uQ-5AZu",
        "colab": {
          "base_uri": "https://localhost:8080/",
          "height": 215
        },
        "outputId": "add8b5ad-e6f7-40e1-f90b-efa990d4932f"
      },
      "source": [
        "data=data.drop('Number',axis=1)\n",
        "data.head()"
      ],
      "execution_count": null,
      "outputs": [
        {
          "output_type": "execute_result",
          "data": {
            "text/html": [
              "<div>\n",
              "<style scoped>\n",
              "    .dataframe tbody tr th:only-of-type {\n",
              "        vertical-align: middle;\n",
              "    }\n",
              "\n",
              "    .dataframe tbody tr th {\n",
              "        vertical-align: top;\n",
              "    }\n",
              "\n",
              "    .dataframe thead th {\n",
              "        text-align: right;\n",
              "    }\n",
              "</style>\n",
              "<table border=\"1\" class=\"dataframe\">\n",
              "  <thead>\n",
              "    <tr style=\"text-align: right;\">\n",
              "      <th></th>\n",
              "      <th>Name</th>\n",
              "      <th>Type_1</th>\n",
              "      <th>Type_2</th>\n",
              "      <th>Total</th>\n",
              "      <th>HP</th>\n",
              "      <th>Attack</th>\n",
              "      <th>Defense</th>\n",
              "      <th>Sp_Atk</th>\n",
              "      <th>Sp_Def</th>\n",
              "      <th>Speed</th>\n",
              "      <th>Generation</th>\n",
              "      <th>isLegendary</th>\n",
              "      <th>Color</th>\n",
              "      <th>hasGender</th>\n",
              "      <th>Pr_Male</th>\n",
              "      <th>Egg_Group_1</th>\n",
              "      <th>Egg_Group_2</th>\n",
              "      <th>hasMegaEvolution</th>\n",
              "      <th>Height_m</th>\n",
              "      <th>Weight_kg</th>\n",
              "      <th>Catch_Rate</th>\n",
              "      <th>Body_Style</th>\n",
              "    </tr>\n",
              "  </thead>\n",
              "  <tbody>\n",
              "    <tr>\n",
              "      <th>0</th>\n",
              "      <td>Bulbasaur</td>\n",
              "      <td>Grass</td>\n",
              "      <td>Poison</td>\n",
              "      <td>318.0</td>\n",
              "      <td>45.0</td>\n",
              "      <td>49.0</td>\n",
              "      <td>49.0</td>\n",
              "      <td>65.0</td>\n",
              "      <td>65.0</td>\n",
              "      <td>45.0</td>\n",
              "      <td>1</td>\n",
              "      <td>False</td>\n",
              "      <td>Green</td>\n",
              "      <td>True</td>\n",
              "      <td>0.875</td>\n",
              "      <td>Monster</td>\n",
              "      <td>Grass</td>\n",
              "      <td>False</td>\n",
              "      <td>0.71</td>\n",
              "      <td>6.9</td>\n",
              "      <td>45</td>\n",
              "      <td>quadruped</td>\n",
              "    </tr>\n",
              "    <tr>\n",
              "      <th>1</th>\n",
              "      <td>Ivysaur</td>\n",
              "      <td>Grass</td>\n",
              "      <td>Poison</td>\n",
              "      <td>405.0</td>\n",
              "      <td>60.0</td>\n",
              "      <td>62.0</td>\n",
              "      <td>63.0</td>\n",
              "      <td>80.0</td>\n",
              "      <td>80.0</td>\n",
              "      <td>60.0</td>\n",
              "      <td>1</td>\n",
              "      <td>False</td>\n",
              "      <td>Green</td>\n",
              "      <td>True</td>\n",
              "      <td>0.875</td>\n",
              "      <td>Monster</td>\n",
              "      <td>Grass</td>\n",
              "      <td>False</td>\n",
              "      <td>0.99</td>\n",
              "      <td>13.0</td>\n",
              "      <td>45</td>\n",
              "      <td>quadruped</td>\n",
              "    </tr>\n",
              "    <tr>\n",
              "      <th>2</th>\n",
              "      <td>Venusaur</td>\n",
              "      <td>Grass</td>\n",
              "      <td>Poison</td>\n",
              "      <td>525.0</td>\n",
              "      <td>80.0</td>\n",
              "      <td>82.0</td>\n",
              "      <td>83.0</td>\n",
              "      <td>100.0</td>\n",
              "      <td>100.0</td>\n",
              "      <td>80.0</td>\n",
              "      <td>1</td>\n",
              "      <td>False</td>\n",
              "      <td>Green</td>\n",
              "      <td>True</td>\n",
              "      <td>0.875</td>\n",
              "      <td>Monster</td>\n",
              "      <td>Grass</td>\n",
              "      <td>True</td>\n",
              "      <td>2.01</td>\n",
              "      <td>100.0</td>\n",
              "      <td>45</td>\n",
              "      <td>quadruped</td>\n",
              "    </tr>\n",
              "    <tr>\n",
              "      <th>3</th>\n",
              "      <td>Charmander</td>\n",
              "      <td>Fire</td>\n",
              "      <td>NaN</td>\n",
              "      <td>309.0</td>\n",
              "      <td>39.0</td>\n",
              "      <td>52.0</td>\n",
              "      <td>43.0</td>\n",
              "      <td>60.0</td>\n",
              "      <td>50.0</td>\n",
              "      <td>NaN</td>\n",
              "      <td>1</td>\n",
              "      <td>False</td>\n",
              "      <td>Red</td>\n",
              "      <td>True</td>\n",
              "      <td>0.875</td>\n",
              "      <td>Monster</td>\n",
              "      <td>Dragon</td>\n",
              "      <td>False</td>\n",
              "      <td>0.61</td>\n",
              "      <td>8.5</td>\n",
              "      <td>45</td>\n",
              "      <td>bipedal_tailed</td>\n",
              "    </tr>\n",
              "    <tr>\n",
              "      <th>4</th>\n",
              "      <td>Charmeleon</td>\n",
              "      <td>Fire</td>\n",
              "      <td>NaN</td>\n",
              "      <td>NaN</td>\n",
              "      <td>58.0</td>\n",
              "      <td>64.0</td>\n",
              "      <td>58.0</td>\n",
              "      <td>80.0</td>\n",
              "      <td>65.0</td>\n",
              "      <td>80.0</td>\n",
              "      <td>1</td>\n",
              "      <td>False</td>\n",
              "      <td>Red</td>\n",
              "      <td>True</td>\n",
              "      <td>0.875</td>\n",
              "      <td>Monster</td>\n",
              "      <td>Dragon</td>\n",
              "      <td>False</td>\n",
              "      <td>1.09</td>\n",
              "      <td>19.0</td>\n",
              "      <td>45</td>\n",
              "      <td>bipedal_tailed</td>\n",
              "    </tr>\n",
              "  </tbody>\n",
              "</table>\n",
              "</div>"
            ],
            "text/plain": [
              "         Name Type_1  Type_2  ...  Weight_kg  Catch_Rate      Body_Style\n",
              "0   Bulbasaur  Grass  Poison  ...        6.9          45       quadruped\n",
              "1     Ivysaur  Grass  Poison  ...       13.0          45       quadruped\n",
              "2    Venusaur  Grass  Poison  ...      100.0          45       quadruped\n",
              "3  Charmander   Fire     NaN  ...        8.5          45  bipedal_tailed\n",
              "4  Charmeleon   Fire     NaN  ...       19.0          45  bipedal_tailed\n",
              "\n",
              "[5 rows x 22 columns]"
            ]
          },
          "metadata": {
            "tags": []
          },
          "execution_count": 22
        }
      ]
    },
    {
      "cell_type": "markdown",
      "metadata": {
        "id": "T3daGEyUezvX"
      },
      "source": [
        "Replacing the String Column Type_2 and Egg_Group_2 with 'NO' because its an additional feature of pokemon"
      ]
    },
    {
      "cell_type": "code",
      "metadata": {
        "id": "dteG7Pad7jw3"
      },
      "source": [
        "data['Type_2']=data['Type_2'].replace(np.nan, 'NO')\n",
        "data['Egg_Group_2']=data['Egg_Group_2'].replace(np.nan, 'NO')"
      ],
      "execution_count": null,
      "outputs": []
    },
    {
      "cell_type": "code",
      "metadata": {
        "id": "3kIpGmHh4YEF",
        "colab": {
          "base_uri": "https://localhost:8080/"
        },
        "outputId": "d6286f39-91f2-47f2-b616-92b77ea21c9a"
      },
      "source": [
        "for c in data.columns:\n",
        "\n",
        "  print(data[c].value_counts().to_frame())\n",
        "   "
      ],
      "execution_count": null,
      "outputs": [
        {
          "output_type": "stream",
          "text": [
            "           Name\n",
            "Bunnelby      1\n",
            "Nincada       1\n",
            "Regigigas     1\n",
            "Poliwrath     1\n",
            "Bonsly        1\n",
            "...         ...\n",
            "Ninetales     1\n",
            "Nidorino      1\n",
            "Empoleon      1\n",
            "Mawile        1\n",
            "Venomoth      1\n",
            "\n",
            "[721 rows x 1 columns]\n",
            "          Type_1\n",
            "Water        105\n",
            "Normal        93\n",
            "Grass         66\n",
            "Bug           63\n",
            "Fire          47\n",
            "Psychic       47\n",
            "Rock          41\n",
            "Electric      36\n",
            "Ground        30\n",
            "Dark          28\n",
            "Poison        28\n",
            "Fighting      25\n",
            "Dragon        24\n",
            "Ice           23\n",
            "Ghost         23\n",
            "Steel         22\n",
            "Fairy         17\n",
            "Flying         3\n",
            "          Type_2\n",
            "NO           371\n",
            "Flying        87\n",
            "Poison        31\n",
            "Ground        30\n",
            "Psychic       27\n",
            "Steel         19\n",
            "Fighting      19\n",
            "Grass         18\n",
            "Fairy         18\n",
            "Dark          16\n",
            "Rock          14\n",
            "Dragon        14\n",
            "Water         13\n",
            "Ghost         12\n",
            "Ice           10\n",
            "Fire           9\n",
            "Electric       6\n",
            "Normal         4\n",
            "Bug            3\n",
            "       Total\n",
            "600.0     26\n",
            "405.0     25\n",
            "500.0     23\n",
            "300.0     19\n",
            "580.0     18\n",
            "...      ...\n",
            "253.0      1\n",
            "273.0      1\n",
            "215.0      1\n",
            "467.0      1\n",
            "487.0      1\n",
            "\n",
            "[183 rows x 1 columns]\n",
            "       HP\n",
            "60.0   59\n",
            "50.0   52\n",
            "70.0   47\n",
            "65.0   42\n",
            "75.0   39\n",
            "...    ..\n",
            "135.0   1\n",
            "190.0   1\n",
            "160.0   1\n",
            "250.0   1\n",
            "31.0    1\n",
            "\n",
            "[93 rows x 1 columns]\n",
            "       Attack\n",
            "50.0       36\n",
            "80.0       36\n",
            "100.0      33\n",
            "65.0       33\n",
            "60.0       32\n",
            "...       ...\n",
            "91.0        1\n",
            "71.0        1\n",
            "129.0       1\n",
            "46.0        1\n",
            "33.0        1\n",
            "\n",
            "[100 rows x 1 columns]\n",
            "       Defense\n",
            "50.0        48\n",
            "70.0        47\n",
            "60.0        43\n",
            "40.0        35\n",
            "65.0        34\n",
            "...        ...\n",
            "10.0         1\n",
            "160.0        1\n",
            "230.0        1\n",
            "131.0        1\n",
            "129.0        1\n",
            "\n",
            "[97 rows x 1 columns]\n",
            "       Sp_Atk\n",
            "60.0       49\n",
            "40.0       46\n",
            "65.0       40\n",
            "50.0       39\n",
            "45.0       33\n",
            "...       ...\n",
            "23.0        1\n",
            "154.0       1\n",
            "91.0        1\n",
            "129.0       1\n",
            "38.0        1\n",
            "\n",
            "[94 rows x 1 columns]\n",
            "       Sp_Def\n",
            "50.0       48\n",
            "65.0       43\n",
            "55.0       43\n",
            "80.0       43\n",
            "60.0       42\n",
            "...       ...\n",
            "101.0       1\n",
            "23.0        1\n",
            "73.0        1\n",
            "200.0       1\n",
            "129.0       1\n",
            "\n",
            "[90 rows x 1 columns]\n",
            "       Speed\n",
            "60.0      43\n",
            "50.0      43\n",
            "70.0      36\n",
            "65.0      35\n",
            "30.0      32\n",
            "...      ...\n",
            "160.0      1\n",
            "123.0      1\n",
            "39.0       1\n",
            "150.0      1\n",
            "145.0      1\n",
            "\n",
            "[101 rows x 1 columns]\n",
            "   Generation\n",
            "5         156\n",
            "1         151\n",
            "3         135\n",
            "4         107\n",
            "2         100\n",
            "6          72\n",
            "       isLegendary\n",
            "False          675\n",
            "True            46\n",
            "        Color\n",
            "Blue      134\n",
            "Brown     110\n",
            "Green      79\n",
            "Red        75\n",
            "Grey       69\n",
            "Purple     65\n",
            "Yellow     64\n",
            "White      52\n",
            "Pink       41\n",
            "Black      32\n",
            "       hasGender\n",
            "True         644\n",
            "False         77\n",
            "       Pr_Male\n",
            "0.500      458\n",
            "0.875      101\n",
            "0.000       23\n",
            "0.250       22\n",
            "0.750       19\n",
            "1.000       19\n",
            "0.125        2\n",
            "              Egg_Group_1\n",
            "Field                 169\n",
            "Monster                74\n",
            "Water_1                74\n",
            "Undiscovered           73\n",
            "Bug                    66\n",
            "Mineral                46\n",
            "Flying                 44\n",
            "Amorphous              41\n",
            "Human-Like             37\n",
            "Fairy                  30\n",
            "Grass                  27\n",
            "Water_2                15\n",
            "Water_3                14\n",
            "Dragon                 10\n",
            "Ditto                   1\n",
            "            Egg_Group_2\n",
            "NO                  530\n",
            "Dragon               35\n",
            "Grass                32\n",
            "Field                31\n",
            "Fairy                17\n",
            "Human-Like           15\n",
            "Water_3              15\n",
            "Water_1              13\n",
            "Mineral               8\n",
            "Amorphous             8\n",
            "Water_2               8\n",
            "Flying                6\n",
            "Bug                   2\n",
            "Monster               1\n",
            "       hasMegaEvolution\n",
            "False               675\n",
            "True                 46\n",
            "       Height_m\n",
            "0.61         66\n",
            "0.99         58\n",
            "0.51         56\n",
            "0.41         56\n",
            "0.30         45\n",
            "1.19         45\n",
            "0.79         42\n",
            "1.50         41\n",
            "1.09         36\n",
            "0.71         34\n",
            "0.89         31\n",
            "1.40         29\n",
            "1.30         27\n",
            "1.60         23\n",
            "1.70         22\n",
            "2.01         19\n",
            "1.80         16\n",
            "0.20         13\n",
            "1.91         11\n",
            "2.11          7\n",
            "2.21          6\n",
            "2.49          4\n",
            "3.20          2\n",
            "3.00          2\n",
            "2.69          2\n",
            "0.10          2\n",
            "2.31          2\n",
            "3.51          2\n",
            "2.79          1\n",
            "2.59          1\n",
            "6.50          1\n",
            "14.50         1\n",
            "4.50          1\n",
            "5.00          1\n",
            "6.91          1\n",
            "5.21          1\n",
            "5.79          1\n",
            "4.19          1\n",
            "9.19          1\n",
            "3.30          1\n",
            "3.71          1\n",
            "2.90          1\n",
            "6.20          1\n",
            "7.01          1\n",
            "0.84          1\n",
            "2.39          1\n",
            "3.99          1\n",
            "5.41          1\n",
            "3.81          1\n",
            "8.79          1\n",
            "       Weight_kg\n",
            "5.0            9\n",
            "15.0           8\n",
            "28.0           8\n",
            "30.0           8\n",
            "8.5            8\n",
            "...          ...\n",
            "160.0          1\n",
            "50.0           1\n",
            "70.0           1\n",
            "92.0           1\n",
            "650.0          1\n",
            "\n",
            "[398 rows x 1 columns]\n",
            "     Catch_Rate\n",
            "45          223\n",
            "190          69\n",
            "255          64\n",
            "75           57\n",
            "120          51\n",
            "3            50\n",
            "60           44\n",
            "90           36\n",
            "30           19\n",
            "200          18\n",
            "225          14\n",
            "25           10\n",
            "180          10\n",
            "50            7\n",
            "150           7\n",
            "235           6\n",
            "100           5\n",
            "140           4\n",
            "127           4\n",
            "125           3\n",
            "65            3\n",
            "55            3\n",
            "170           2\n",
            "220           2\n",
            "130           2\n",
            "160           1\n",
            "70            1\n",
            "80            1\n",
            "205           1\n",
            "35            1\n",
            "145           1\n",
            "15            1\n",
            "155           1\n",
            "                  Body_Style\n",
            "bipedal_tailed           158\n",
            "quadruped                135\n",
            "bipedal_tailless         109\n",
            "two_wings                 63\n",
            "head_arms                 39\n",
            "head_only                 34\n",
            "with_fins                 31\n",
            "insectoid                 30\n",
            "head_base                 30\n",
            "serpentine_body           29\n",
            "four_wings                18\n",
            "head_legs                 17\n",
            "multiple_bodies           15\n",
            "several_limbs             13\n"
          ],
          "name": "stdout"
        }
      ]
    },
    {
      "cell_type": "code",
      "metadata": {
        "colab": {
          "base_uri": "https://localhost:8080/"
        },
        "id": "VpOPnlcZ4fo5",
        "outputId": "68d314b6-5475-4f69-dba7-59494249e970"
      },
      "source": [
        "data.isnull().any()"
      ],
      "execution_count": null,
      "outputs": [
        {
          "output_type": "execute_result",
          "data": {
            "text/plain": [
              "Name                False\n",
              "Type_1              False\n",
              "Type_2              False\n",
              "Total                True\n",
              "HP                   True\n",
              "Attack               True\n",
              "Defense              True\n",
              "Sp_Atk               True\n",
              "Sp_Def               True\n",
              "Speed                True\n",
              "Generation          False\n",
              "isLegendary         False\n",
              "Color               False\n",
              "hasGender           False\n",
              "Pr_Male              True\n",
              "Egg_Group_1         False\n",
              "Egg_Group_2         False\n",
              "hasMegaEvolution    False\n",
              "Height_m            False\n",
              "Weight_kg           False\n",
              "Catch_Rate          False\n",
              "Body_Style          False\n",
              "dtype: bool"
            ]
          },
          "metadata": {
            "tags": []
          },
          "execution_count": 84
        }
      ]
    },
    {
      "cell_type": "code",
      "metadata": {
        "colab": {
          "base_uri": "https://localhost:8080/"
        },
        "id": "cJBEtkAQ4jAi",
        "outputId": "5f1f2d9a-6570-48cf-8660-1036ea061e19"
      },
      "source": [
        "data.info()"
      ],
      "execution_count": null,
      "outputs": [
        {
          "output_type": "stream",
          "text": [
            "<class 'pandas.core.frame.DataFrame'>\n",
            "RangeIndex: 721 entries, 0 to 720\n",
            "Data columns (total 22 columns):\n",
            " #   Column            Non-Null Count  Dtype  \n",
            "---  ------            --------------  -----  \n",
            " 0   Name              721 non-null    object \n",
            " 1   Type_1            721 non-null    object \n",
            " 2   Type_2            721 non-null    object \n",
            " 3   Total             708 non-null    float64\n",
            " 4   HP                710 non-null    float64\n",
            " 5   Attack            714 non-null    float64\n",
            " 6   Defense           715 non-null    float64\n",
            " 7   Sp_Atk            712 non-null    float64\n",
            " 8   Sp_Def            715 non-null    float64\n",
            " 9   Speed             715 non-null    float64\n",
            " 10  Generation        721 non-null    int64  \n",
            " 11  isLegendary       721 non-null    bool   \n",
            " 12  Color             721 non-null    object \n",
            " 13  hasGender         721 non-null    bool   \n",
            " 14  Pr_Male           644 non-null    float64\n",
            " 15  Egg_Group_1       721 non-null    object \n",
            " 16  Egg_Group_2       721 non-null    object \n",
            " 17  hasMegaEvolution  721 non-null    bool   \n",
            " 18  Height_m          721 non-null    float64\n",
            " 19  Weight_kg         721 non-null    float64\n",
            " 20  Catch_Rate        721 non-null    int64  \n",
            " 21  Body_Style        721 non-null    object \n",
            "dtypes: bool(3), float64(10), int64(2), object(7)\n",
            "memory usage: 109.3+ KB\n"
          ],
          "name": "stdout"
        }
      ]
    },
    {
      "cell_type": "code",
      "metadata": {
        "id": "yyHMb-Es4qsI"
      },
      "source": [
        "from sklearn.preprocessing import LabelEncoder\n",
        "l = LabelEncoder()\n",
        "data['Type_1']=l.fit_transform(data['Type_1'])\n",
        "data['Type_2']=l.fit_transform(data['Type_2'])\n",
        "data['Color']=l.fit_transform(data['Color'])\n",
        "data['Egg_Group_1']=l.fit_transform(data['Egg_Group_1'])\n",
        "data['Egg_Group_2']=l.fit_transform(data['Egg_Group_2'])\n",
        "data['Body_Style']=l.fit_transform(data['Body_Style'])"
      ],
      "execution_count": null,
      "outputs": []
    },
    {
      "cell_type": "code",
      "metadata": {
        "colab": {
          "base_uri": "https://localhost:8080/"
        },
        "id": "-vh82gnQUkB3",
        "outputId": "bce188dc-566d-4cc5-918b-811d3e504c89"
      },
      "source": [
        "#Outliers\n",
        "from sklearn.cluster import DBSCAN\n",
        "data1=data.drop('Name',axis=1)\n",
        "data2=data1.dropna(axis=0)\n",
        "outlier_detection = DBSCAN(min_samples = 2, eps = 10)\n",
        "clusters = outlier_detection.fit_predict(data2)\n",
        "list(clusters).count(-1)"
      ],
      "execution_count": null,
      "outputs": [
        {
          "output_type": "execute_result",
          "data": {
            "text/plain": [
              "586"
            ]
          },
          "metadata": {
            "tags": []
          },
          "execution_count": 194
        }
      ]
    },
    {
      "cell_type": "code",
      "metadata": {
        "id": "EcFT5bDd99HT"
      },
      "source": [
        "data=data.dropna(axis=0)"
      ],
      "execution_count": null,
      "outputs": []
    },
    {
      "cell_type": "code",
      "metadata": {
        "colab": {
          "base_uri": "https://localhost:8080/",
          "height": 422
        },
        "id": "D8n2ZPfxPwTZ",
        "outputId": "49fd3273-dff9-4423-9ccc-63afdcda77a3"
      },
      "source": [
        "data"
      ],
      "execution_count": null,
      "outputs": [
        {
          "output_type": "execute_result",
          "data": {
            "text/html": [
              "<div>\n",
              "<style scoped>\n",
              "    .dataframe tbody tr th:only-of-type {\n",
              "        vertical-align: middle;\n",
              "    }\n",
              "\n",
              "    .dataframe tbody tr th {\n",
              "        vertical-align: top;\n",
              "    }\n",
              "\n",
              "    .dataframe thead th {\n",
              "        text-align: right;\n",
              "    }\n",
              "</style>\n",
              "<table border=\"1\" class=\"dataframe\">\n",
              "  <thead>\n",
              "    <tr style=\"text-align: right;\">\n",
              "      <th></th>\n",
              "      <th>Name</th>\n",
              "      <th>Type_1</th>\n",
              "      <th>Type_2</th>\n",
              "      <th>Total</th>\n",
              "      <th>HP</th>\n",
              "      <th>Attack</th>\n",
              "      <th>Defense</th>\n",
              "      <th>Sp_Atk</th>\n",
              "      <th>Sp_Def</th>\n",
              "      <th>Speed</th>\n",
              "      <th>Generation</th>\n",
              "      <th>isLegendary</th>\n",
              "      <th>Color</th>\n",
              "      <th>hasGender</th>\n",
              "      <th>Pr_Male</th>\n",
              "      <th>Egg_Group_1</th>\n",
              "      <th>Egg_Group_2</th>\n",
              "      <th>hasMegaEvolution</th>\n",
              "      <th>Height_m</th>\n",
              "      <th>Weight_kg</th>\n",
              "      <th>Catch_Rate</th>\n",
              "      <th>Body_Style</th>\n",
              "    </tr>\n",
              "  </thead>\n",
              "  <tbody>\n",
              "    <tr>\n",
              "      <th>0</th>\n",
              "      <td>Bulbasaur</td>\n",
              "      <td>9</td>\n",
              "      <td>Poison</td>\n",
              "      <td>318.0</td>\n",
              "      <td>45.0</td>\n",
              "      <td>49.0</td>\n",
              "      <td>49.0</td>\n",
              "      <td>65.0</td>\n",
              "      <td>65.0</td>\n",
              "      <td>45.0</td>\n",
              "      <td>1</td>\n",
              "      <td>False</td>\n",
              "      <td>3</td>\n",
              "      <td>True</td>\n",
              "      <td>0.875</td>\n",
              "      <td>10</td>\n",
              "      <td>Grass</td>\n",
              "      <td>False</td>\n",
              "      <td>0.71</td>\n",
              "      <td>6.9</td>\n",
              "      <td>45</td>\n",
              "      <td>9</td>\n",
              "    </tr>\n",
              "    <tr>\n",
              "      <th>1</th>\n",
              "      <td>Ivysaur</td>\n",
              "      <td>9</td>\n",
              "      <td>Poison</td>\n",
              "      <td>405.0</td>\n",
              "      <td>60.0</td>\n",
              "      <td>62.0</td>\n",
              "      <td>63.0</td>\n",
              "      <td>80.0</td>\n",
              "      <td>80.0</td>\n",
              "      <td>60.0</td>\n",
              "      <td>1</td>\n",
              "      <td>False</td>\n",
              "      <td>3</td>\n",
              "      <td>True</td>\n",
              "      <td>0.875</td>\n",
              "      <td>10</td>\n",
              "      <td>Grass</td>\n",
              "      <td>False</td>\n",
              "      <td>0.99</td>\n",
              "      <td>13.0</td>\n",
              "      <td>45</td>\n",
              "      <td>9</td>\n",
              "    </tr>\n",
              "    <tr>\n",
              "      <th>2</th>\n",
              "      <td>Venusaur</td>\n",
              "      <td>9</td>\n",
              "      <td>Poison</td>\n",
              "      <td>525.0</td>\n",
              "      <td>80.0</td>\n",
              "      <td>82.0</td>\n",
              "      <td>83.0</td>\n",
              "      <td>100.0</td>\n",
              "      <td>100.0</td>\n",
              "      <td>80.0</td>\n",
              "      <td>1</td>\n",
              "      <td>False</td>\n",
              "      <td>3</td>\n",
              "      <td>True</td>\n",
              "      <td>0.875</td>\n",
              "      <td>10</td>\n",
              "      <td>Grass</td>\n",
              "      <td>True</td>\n",
              "      <td>2.01</td>\n",
              "      <td>100.0</td>\n",
              "      <td>45</td>\n",
              "      <td>9</td>\n",
              "    </tr>\n",
              "    <tr>\n",
              "      <th>5</th>\n",
              "      <td>Charizard</td>\n",
              "      <td>6</td>\n",
              "      <td>Flying</td>\n",
              "      <td>534.0</td>\n",
              "      <td>78.0</td>\n",
              "      <td>84.0</td>\n",
              "      <td>78.0</td>\n",
              "      <td>109.0</td>\n",
              "      <td>85.0</td>\n",
              "      <td>100.0</td>\n",
              "      <td>1</td>\n",
              "      <td>False</td>\n",
              "      <td>7</td>\n",
              "      <td>True</td>\n",
              "      <td>0.875</td>\n",
              "      <td>10</td>\n",
              "      <td>Dragon</td>\n",
              "      <td>True</td>\n",
              "      <td>1.70</td>\n",
              "      <td>90.5</td>\n",
              "      <td>45</td>\n",
              "      <td>0</td>\n",
              "    </tr>\n",
              "    <tr>\n",
              "      <th>33</th>\n",
              "      <td>Nidoking</td>\n",
              "      <td>13</td>\n",
              "      <td>Ground</td>\n",
              "      <td>505.0</td>\n",
              "      <td>81.0</td>\n",
              "      <td>102.0</td>\n",
              "      <td>77.0</td>\n",
              "      <td>85.0</td>\n",
              "      <td>75.0</td>\n",
              "      <td>85.0</td>\n",
              "      <td>1</td>\n",
              "      <td>False</td>\n",
              "      <td>6</td>\n",
              "      <td>True</td>\n",
              "      <td>1.000</td>\n",
              "      <td>10</td>\n",
              "      <td>Field</td>\n",
              "      <td>False</td>\n",
              "      <td>1.40</td>\n",
              "      <td>62.0</td>\n",
              "      <td>45</td>\n",
              "      <td>0</td>\n",
              "    </tr>\n",
              "    <tr>\n",
              "      <th>...</th>\n",
              "      <td>...</td>\n",
              "      <td>...</td>\n",
              "      <td>...</td>\n",
              "      <td>...</td>\n",
              "      <td>...</td>\n",
              "      <td>...</td>\n",
              "      <td>...</td>\n",
              "      <td>...</td>\n",
              "      <td>...</td>\n",
              "      <td>...</td>\n",
              "      <td>...</td>\n",
              "      <td>...</td>\n",
              "      <td>...</td>\n",
              "      <td>...</td>\n",
              "      <td>...</td>\n",
              "      <td>...</td>\n",
              "      <td>...</td>\n",
              "      <td>...</td>\n",
              "      <td>...</td>\n",
              "      <td>...</td>\n",
              "      <td>...</td>\n",
              "      <td>...</td>\n",
              "    </tr>\n",
              "    <tr>\n",
              "      <th>695</th>\n",
              "      <td>Tyrunt</td>\n",
              "      <td>15</td>\n",
              "      <td>Dragon</td>\n",
              "      <td>362.0</td>\n",
              "      <td>58.0</td>\n",
              "      <td>89.0</td>\n",
              "      <td>77.0</td>\n",
              "      <td>45.0</td>\n",
              "      <td>45.0</td>\n",
              "      <td>48.0</td>\n",
              "      <td>6</td>\n",
              "      <td>False</td>\n",
              "      <td>2</td>\n",
              "      <td>True</td>\n",
              "      <td>0.875</td>\n",
              "      <td>10</td>\n",
              "      <td>Dragon</td>\n",
              "      <td>False</td>\n",
              "      <td>0.79</td>\n",
              "      <td>26.0</td>\n",
              "      <td>45</td>\n",
              "      <td>0</td>\n",
              "    </tr>\n",
              "    <tr>\n",
              "      <th>696</th>\n",
              "      <td>Tyrantrum</td>\n",
              "      <td>15</td>\n",
              "      <td>Dragon</td>\n",
              "      <td>521.0</td>\n",
              "      <td>82.0</td>\n",
              "      <td>121.0</td>\n",
              "      <td>119.0</td>\n",
              "      <td>69.0</td>\n",
              "      <td>59.0</td>\n",
              "      <td>71.0</td>\n",
              "      <td>6</td>\n",
              "      <td>False</td>\n",
              "      <td>7</td>\n",
              "      <td>True</td>\n",
              "      <td>0.875</td>\n",
              "      <td>10</td>\n",
              "      <td>Dragon</td>\n",
              "      <td>False</td>\n",
              "      <td>2.49</td>\n",
              "      <td>270.0</td>\n",
              "      <td>45</td>\n",
              "      <td>0</td>\n",
              "    </tr>\n",
              "    <tr>\n",
              "      <th>701</th>\n",
              "      <td>Dedenne</td>\n",
              "      <td>3</td>\n",
              "      <td>Fairy</td>\n",
              "      <td>431.0</td>\n",
              "      <td>67.0</td>\n",
              "      <td>58.0</td>\n",
              "      <td>57.0</td>\n",
              "      <td>81.0</td>\n",
              "      <td>67.0</td>\n",
              "      <td>101.0</td>\n",
              "      <td>6</td>\n",
              "      <td>False</td>\n",
              "      <td>9</td>\n",
              "      <td>True</td>\n",
              "      <td>0.500</td>\n",
              "      <td>5</td>\n",
              "      <td>Fairy</td>\n",
              "      <td>False</td>\n",
              "      <td>0.20</td>\n",
              "      <td>2.2</td>\n",
              "      <td>180</td>\n",
              "      <td>0</td>\n",
              "    </tr>\n",
              "    <tr>\n",
              "      <th>707</th>\n",
              "      <td>Phantump</td>\n",
              "      <td>8</td>\n",
              "      <td>Grass</td>\n",
              "      <td>309.0</td>\n",
              "      <td>43.0</td>\n",
              "      <td>70.0</td>\n",
              "      <td>48.0</td>\n",
              "      <td>50.0</td>\n",
              "      <td>60.0</td>\n",
              "      <td>38.0</td>\n",
              "      <td>6</td>\n",
              "      <td>False</td>\n",
              "      <td>2</td>\n",
              "      <td>True</td>\n",
              "      <td>0.500</td>\n",
              "      <td>7</td>\n",
              "      <td>Amorphous</td>\n",
              "      <td>False</td>\n",
              "      <td>0.41</td>\n",
              "      <td>7.0</td>\n",
              "      <td>120</td>\n",
              "      <td>3</td>\n",
              "    </tr>\n",
              "    <tr>\n",
              "      <th>708</th>\n",
              "      <td>Trevenant</td>\n",
              "      <td>8</td>\n",
              "      <td>Grass</td>\n",
              "      <td>474.0</td>\n",
              "      <td>85.0</td>\n",
              "      <td>110.0</td>\n",
              "      <td>76.0</td>\n",
              "      <td>65.0</td>\n",
              "      <td>82.0</td>\n",
              "      <td>56.0</td>\n",
              "      <td>6</td>\n",
              "      <td>False</td>\n",
              "      <td>2</td>\n",
              "      <td>True</td>\n",
              "      <td>0.500</td>\n",
              "      <td>7</td>\n",
              "      <td>Amorphous</td>\n",
              "      <td>False</td>\n",
              "      <td>1.50</td>\n",
              "      <td>71.0</td>\n",
              "      <td>60</td>\n",
              "      <td>11</td>\n",
              "    </tr>\n",
              "  </tbody>\n",
              "</table>\n",
              "<p>95 rows × 22 columns</p>\n",
              "</div>"
            ],
            "text/plain": [
              "          Name  Type_1  Type_2  ...  Weight_kg  Catch_Rate  Body_Style\n",
              "0    Bulbasaur       9  Poison  ...        6.9          45           9\n",
              "1      Ivysaur       9  Poison  ...       13.0          45           9\n",
              "2     Venusaur       9  Poison  ...      100.0          45           9\n",
              "5    Charizard       6  Flying  ...       90.5          45           0\n",
              "33    Nidoking      13  Ground  ...       62.0          45           0\n",
              "..         ...     ...     ...  ...        ...         ...         ...\n",
              "695     Tyrunt      15  Dragon  ...       26.0          45           0\n",
              "696  Tyrantrum      15  Dragon  ...      270.0          45           0\n",
              "701    Dedenne       3   Fairy  ...        2.2         180           0\n",
              "707   Phantump       8   Grass  ...        7.0         120           3\n",
              "708  Trevenant       8   Grass  ...       71.0          60          11\n",
              "\n",
              "[95 rows x 22 columns]"
            ]
          },
          "metadata": {
            "tags": []
          },
          "execution_count": 11
        }
      ]
    },
    {
      "cell_type": "code",
      "metadata": {
        "id": "_fdhoEk8-IUT",
        "colab": {
          "base_uri": "https://localhost:8080/"
        },
        "outputId": "b6fc729e-84ef-48c9-e5ca-1da72d778d36"
      },
      "source": [
        "y=data['Type_1']\n",
        "y.value_counts()"
      ],
      "execution_count": null,
      "outputs": [
        {
          "output_type": "execute_result",
          "data": {
            "text/plain": [
              "17    91\n",
              "12    75\n",
              "9     62\n",
              "0     54\n",
              "6     38\n",
              "14    33\n",
              "15    29\n",
              "13    27\n",
              "3     26\n",
              "1     25\n",
              "10    24\n",
              "5     24\n",
              "8     22\n",
              "11    18\n",
              "2     18\n",
              "4     16\n",
              "16     9\n",
              "7      3\n",
              "Name: Type_1, dtype: int64"
            ]
          },
          "metadata": {
            "tags": []
          },
          "execution_count": 26
        }
      ]
    },
    {
      "cell_type": "code",
      "metadata": {
        "id": "f5h2_dpj-avt"
      },
      "source": [
        "x=data.drop('Type_1',axis=1)"
      ],
      "execution_count": null,
      "outputs": []
    },
    {
      "cell_type": "code",
      "metadata": {
        "id": "jdoVVnIkBUTu"
      },
      "source": [
        "x=x.drop('Name',axis=1)"
      ],
      "execution_count": null,
      "outputs": []
    },
    {
      "cell_type": "code",
      "metadata": {
        "colab": {
          "base_uri": "https://localhost:8080/",
          "height": 541
        },
        "id": "6aMEmNK6BoTK",
        "outputId": "a4a8aba8-263d-425d-895b-4baa6c61cf2f"
      },
      "source": [
        "x.corr()"
      ],
      "execution_count": null,
      "outputs": [
        {
          "output_type": "execute_result",
          "data": {
            "text/html": [
              "<div>\n",
              "<style scoped>\n",
              "    .dataframe tbody tr th:only-of-type {\n",
              "        vertical-align: middle;\n",
              "    }\n",
              "\n",
              "    .dataframe tbody tr th {\n",
              "        vertical-align: top;\n",
              "    }\n",
              "\n",
              "    .dataframe thead th {\n",
              "        text-align: right;\n",
              "    }\n",
              "</style>\n",
              "<table border=\"1\" class=\"dataframe\">\n",
              "  <thead>\n",
              "    <tr style=\"text-align: right;\">\n",
              "      <th></th>\n",
              "      <th>Number</th>\n",
              "      <th>Total</th>\n",
              "      <th>HP</th>\n",
              "      <th>Attack</th>\n",
              "      <th>Defense</th>\n",
              "      <th>Sp_Atk</th>\n",
              "      <th>Sp_Def</th>\n",
              "      <th>Speed</th>\n",
              "      <th>Generation</th>\n",
              "      <th>isLegendary</th>\n",
              "      <th>hasGender</th>\n",
              "      <th>Pr_Male</th>\n",
              "      <th>hasMegaEvolution</th>\n",
              "      <th>Height_m</th>\n",
              "      <th>Weight_kg</th>\n",
              "      <th>Catch_Rate</th>\n",
              "    </tr>\n",
              "  </thead>\n",
              "  <tbody>\n",
              "    <tr>\n",
              "      <th>Number</th>\n",
              "      <td>1.000000</td>\n",
              "      <td>0.159913</td>\n",
              "      <td>0.104013</td>\n",
              "      <td>0.138516</td>\n",
              "      <td>0.122581</td>\n",
              "      <td>0.118034</td>\n",
              "      <td>0.104145</td>\n",
              "      <td>0.028079</td>\n",
              "      <td>0.983329</td>\n",
              "      <td>0.135022</td>\n",
              "      <td>-0.100328</td>\n",
              "      <td>-0.013414</td>\n",
              "      <td>-0.117981</td>\n",
              "      <td>-0.009710</td>\n",
              "      <td>0.087309</td>\n",
              "      <td>-0.074931</td>\n",
              "    </tr>\n",
              "    <tr>\n",
              "      <th>Total</th>\n",
              "      <td>0.159913</td>\n",
              "      <td>1.000000</td>\n",
              "      <td>0.679304</td>\n",
              "      <td>0.714060</td>\n",
              "      <td>0.616572</td>\n",
              "      <td>0.720548</td>\n",
              "      <td>0.703821</td>\n",
              "      <td>0.550127</td>\n",
              "      <td>0.091380</td>\n",
              "      <td>0.484382</td>\n",
              "      <td>-0.387733</td>\n",
              "      <td>0.118846</td>\n",
              "      <td>0.229240</td>\n",
              "      <td>0.527875</td>\n",
              "      <td>0.537969</td>\n",
              "      <td>-0.737359</td>\n",
              "    </tr>\n",
              "    <tr>\n",
              "      <th>HP</th>\n",
              "      <td>0.104013</td>\n",
              "      <td>0.679304</td>\n",
              "      <td>1.000000</td>\n",
              "      <td>0.474110</td>\n",
              "      <td>0.236406</td>\n",
              "      <td>0.363645</td>\n",
              "      <td>0.371952</td>\n",
              "      <td>0.166401</td>\n",
              "      <td>0.068071</td>\n",
              "      <td>0.258656</td>\n",
              "      <td>-0.153985</td>\n",
              "      <td>-0.066778</td>\n",
              "      <td>0.093401</td>\n",
              "      <td>0.474400</td>\n",
              "      <td>0.435076</td>\n",
              "      <td>-0.480406</td>\n",
              "    </tr>\n",
              "    <tr>\n",
              "      <th>Attack</th>\n",
              "      <td>0.138516</td>\n",
              "      <td>0.714060</td>\n",
              "      <td>0.474110</td>\n",
              "      <td>1.000000</td>\n",
              "      <td>0.435464</td>\n",
              "      <td>0.329521</td>\n",
              "      <td>0.210927</td>\n",
              "      <td>0.337372</td>\n",
              "      <td>0.093458</td>\n",
              "      <td>0.305027</td>\n",
              "      <td>-0.198149</td>\n",
              "      <td>0.202639</td>\n",
              "      <td>0.205228</td>\n",
              "      <td>0.440361</td>\n",
              "      <td>0.476368</td>\n",
              "      <td>-0.529974</td>\n",
              "    </tr>\n",
              "    <tr>\n",
              "      <th>Defense</th>\n",
              "      <td>0.122581</td>\n",
              "      <td>0.616572</td>\n",
              "      <td>0.236406</td>\n",
              "      <td>0.435464</td>\n",
              "      <td>1.000000</td>\n",
              "      <td>0.195518</td>\n",
              "      <td>0.495199</td>\n",
              "      <td>-0.005852</td>\n",
              "      <td>0.070009</td>\n",
              "      <td>0.277587</td>\n",
              "      <td>-0.265320</td>\n",
              "      <td>0.064833</td>\n",
              "      <td>0.114227</td>\n",
              "      <td>0.355719</td>\n",
              "      <td>0.472138</td>\n",
              "      <td>-0.435515</td>\n",
              "    </tr>\n",
              "    <tr>\n",
              "      <th>Sp_Atk</th>\n",
              "      <td>0.118034</td>\n",
              "      <td>0.720548</td>\n",
              "      <td>0.363645</td>\n",
              "      <td>0.329521</td>\n",
              "      <td>0.195518</td>\n",
              "      <td>1.000000</td>\n",
              "      <td>0.487370</td>\n",
              "      <td>0.437105</td>\n",
              "      <td>0.068902</td>\n",
              "      <td>0.411746</td>\n",
              "      <td>-0.337784</td>\n",
              "      <td>0.111260</td>\n",
              "      <td>0.169360</td>\n",
              "      <td>0.327324</td>\n",
              "      <td>0.282945</td>\n",
              "      <td>-0.534495</td>\n",
              "    </tr>\n",
              "    <tr>\n",
              "      <th>Sp_Def</th>\n",
              "      <td>0.104145</td>\n",
              "      <td>0.703821</td>\n",
              "      <td>0.371952</td>\n",
              "      <td>0.210927</td>\n",
              "      <td>0.495199</td>\n",
              "      <td>0.487370</td>\n",
              "      <td>1.000000</td>\n",
              "      <td>0.227836</td>\n",
              "      <td>0.047300</td>\n",
              "      <td>0.360238</td>\n",
              "      <td>-0.336721</td>\n",
              "      <td>0.016218</td>\n",
              "      <td>0.148847</td>\n",
              "      <td>0.311603</td>\n",
              "      <td>0.327419</td>\n",
              "      <td>-0.510006</td>\n",
              "    </tr>\n",
              "    <tr>\n",
              "      <th>Speed</th>\n",
              "      <td>0.028079</td>\n",
              "      <td>0.550127</td>\n",
              "      <td>0.166401</td>\n",
              "      <td>0.337372</td>\n",
              "      <td>-0.005852</td>\n",
              "      <td>0.437105</td>\n",
              "      <td>0.227836</td>\n",
              "      <td>1.000000</td>\n",
              "      <td>0.004015</td>\n",
              "      <td>0.286944</td>\n",
              "      <td>-0.217670</td>\n",
              "      <td>0.074872</td>\n",
              "      <td>0.144697</td>\n",
              "      <td>0.222808</td>\n",
              "      <td>0.109462</td>\n",
              "      <td>-0.408664</td>\n",
              "    </tr>\n",
              "    <tr>\n",
              "      <th>Generation</th>\n",
              "      <td>0.983329</td>\n",
              "      <td>0.091380</td>\n",
              "      <td>0.068071</td>\n",
              "      <td>0.093458</td>\n",
              "      <td>0.070009</td>\n",
              "      <td>0.068902</td>\n",
              "      <td>0.047300</td>\n",
              "      <td>0.004015</td>\n",
              "      <td>1.000000</td>\n",
              "      <td>0.071875</td>\n",
              "      <td>-0.029916</td>\n",
              "      <td>0.010912</td>\n",
              "      <td>-0.125374</td>\n",
              "      <td>-0.051304</td>\n",
              "      <td>0.034003</td>\n",
              "      <td>-0.025227</td>\n",
              "    </tr>\n",
              "    <tr>\n",
              "      <th>isLegendary</th>\n",
              "      <td>0.135022</td>\n",
              "      <td>0.484382</td>\n",
              "      <td>0.258656</td>\n",
              "      <td>0.305027</td>\n",
              "      <td>0.277587</td>\n",
              "      <td>0.411746</td>\n",
              "      <td>0.360238</td>\n",
              "      <td>0.286944</td>\n",
              "      <td>0.071875</td>\n",
              "      <td>1.000000</td>\n",
              "      <td>-0.644714</td>\n",
              "      <td>0.095428</td>\n",
              "      <td>0.047955</td>\n",
              "      <td>0.326323</td>\n",
              "      <td>0.425219</td>\n",
              "      <td>-0.319302</td>\n",
              "    </tr>\n",
              "    <tr>\n",
              "      <th>hasGender</th>\n",
              "      <td>-0.100328</td>\n",
              "      <td>-0.387733</td>\n",
              "      <td>-0.153985</td>\n",
              "      <td>-0.198149</td>\n",
              "      <td>-0.265320</td>\n",
              "      <td>-0.337784</td>\n",
              "      <td>-0.336721</td>\n",
              "      <td>-0.217670</td>\n",
              "      <td>-0.029916</td>\n",
              "      <td>-0.644714</td>\n",
              "      <td>1.000000</td>\n",
              "      <td>NaN</td>\n",
              "      <td>0.016769</td>\n",
              "      <td>-0.200026</td>\n",
              "      <td>-0.361465</td>\n",
              "      <td>0.272304</td>\n",
              "    </tr>\n",
              "    <tr>\n",
              "      <th>Pr_Male</th>\n",
              "      <td>-0.013414</td>\n",
              "      <td>0.118846</td>\n",
              "      <td>-0.066778</td>\n",
              "      <td>0.202639</td>\n",
              "      <td>0.064833</td>\n",
              "      <td>0.111260</td>\n",
              "      <td>0.016218</td>\n",
              "      <td>0.074872</td>\n",
              "      <td>0.010912</td>\n",
              "      <td>0.095428</td>\n",
              "      <td>NaN</td>\n",
              "      <td>1.000000</td>\n",
              "      <td>0.031731</td>\n",
              "      <td>0.040863</td>\n",
              "      <td>0.061196</td>\n",
              "      <td>-0.253645</td>\n",
              "    </tr>\n",
              "    <tr>\n",
              "      <th>hasMegaEvolution</th>\n",
              "      <td>-0.117981</td>\n",
              "      <td>0.229240</td>\n",
              "      <td>0.093401</td>\n",
              "      <td>0.205228</td>\n",
              "      <td>0.114227</td>\n",
              "      <td>0.169360</td>\n",
              "      <td>0.148847</td>\n",
              "      <td>0.144697</td>\n",
              "      <td>-0.125374</td>\n",
              "      <td>0.047955</td>\n",
              "      <td>0.016769</td>\n",
              "      <td>0.031731</td>\n",
              "      <td>1.000000</td>\n",
              "      <td>0.194621</td>\n",
              "      <td>0.129057</td>\n",
              "      <td>-0.173273</td>\n",
              "    </tr>\n",
              "    <tr>\n",
              "      <th>Height_m</th>\n",
              "      <td>-0.009710</td>\n",
              "      <td>0.527875</td>\n",
              "      <td>0.474400</td>\n",
              "      <td>0.440361</td>\n",
              "      <td>0.355719</td>\n",
              "      <td>0.327324</td>\n",
              "      <td>0.311603</td>\n",
              "      <td>0.222808</td>\n",
              "      <td>-0.051304</td>\n",
              "      <td>0.326323</td>\n",
              "      <td>-0.200026</td>\n",
              "      <td>0.040863</td>\n",
              "      <td>0.194621</td>\n",
              "      <td>1.000000</td>\n",
              "      <td>0.661342</td>\n",
              "      <td>-0.382862</td>\n",
              "    </tr>\n",
              "    <tr>\n",
              "      <th>Weight_kg</th>\n",
              "      <td>0.087309</td>\n",
              "      <td>0.537969</td>\n",
              "      <td>0.435076</td>\n",
              "      <td>0.476368</td>\n",
              "      <td>0.472138</td>\n",
              "      <td>0.282945</td>\n",
              "      <td>0.327419</td>\n",
              "      <td>0.109462</td>\n",
              "      <td>0.034003</td>\n",
              "      <td>0.425219</td>\n",
              "      <td>-0.361465</td>\n",
              "      <td>0.061196</td>\n",
              "      <td>0.129057</td>\n",
              "      <td>0.661342</td>\n",
              "      <td>1.000000</td>\n",
              "      <td>-0.367798</td>\n",
              "    </tr>\n",
              "    <tr>\n",
              "      <th>Catch_Rate</th>\n",
              "      <td>-0.074931</td>\n",
              "      <td>-0.737359</td>\n",
              "      <td>-0.480406</td>\n",
              "      <td>-0.529974</td>\n",
              "      <td>-0.435515</td>\n",
              "      <td>-0.534495</td>\n",
              "      <td>-0.510006</td>\n",
              "      <td>-0.408664</td>\n",
              "      <td>-0.025227</td>\n",
              "      <td>-0.319302</td>\n",
              "      <td>0.272304</td>\n",
              "      <td>-0.253645</td>\n",
              "      <td>-0.173273</td>\n",
              "      <td>-0.382862</td>\n",
              "      <td>-0.367798</td>\n",
              "      <td>1.000000</td>\n",
              "    </tr>\n",
              "  </tbody>\n",
              "</table>\n",
              "</div>"
            ],
            "text/plain": [
              "                    Number     Total        HP  ...  Height_m  Weight_kg  Catch_Rate\n",
              "Number            1.000000  0.159913  0.104013  ... -0.009710   0.087309   -0.074931\n",
              "Total             0.159913  1.000000  0.679304  ...  0.527875   0.537969   -0.737359\n",
              "HP                0.104013  0.679304  1.000000  ...  0.474400   0.435076   -0.480406\n",
              "Attack            0.138516  0.714060  0.474110  ...  0.440361   0.476368   -0.529974\n",
              "Defense           0.122581  0.616572  0.236406  ...  0.355719   0.472138   -0.435515\n",
              "Sp_Atk            0.118034  0.720548  0.363645  ...  0.327324   0.282945   -0.534495\n",
              "Sp_Def            0.104145  0.703821  0.371952  ...  0.311603   0.327419   -0.510006\n",
              "Speed             0.028079  0.550127  0.166401  ...  0.222808   0.109462   -0.408664\n",
              "Generation        0.983329  0.091380  0.068071  ... -0.051304   0.034003   -0.025227\n",
              "isLegendary       0.135022  0.484382  0.258656  ...  0.326323   0.425219   -0.319302\n",
              "hasGender        -0.100328 -0.387733 -0.153985  ... -0.200026  -0.361465    0.272304\n",
              "Pr_Male          -0.013414  0.118846 -0.066778  ...  0.040863   0.061196   -0.253645\n",
              "hasMegaEvolution -0.117981  0.229240  0.093401  ...  0.194621   0.129057   -0.173273\n",
              "Height_m         -0.009710  0.527875  0.474400  ...  1.000000   0.661342   -0.382862\n",
              "Weight_kg         0.087309  0.537969  0.435076  ...  0.661342   1.000000   -0.367798\n",
              "Catch_Rate       -0.074931 -0.737359 -0.480406  ... -0.382862  -0.367798    1.000000\n",
              "\n",
              "[16 rows x 16 columns]"
            ]
          },
          "metadata": {
            "tags": []
          },
          "execution_count": 225
        }
      ]
    },
    {
      "cell_type": "code",
      "metadata": {
        "colab": {
          "base_uri": "https://localhost:8080/",
          "height": 694
        },
        "id": "Vw4q0YXIW0mj",
        "outputId": "66819799-7bb7-48e5-e403-9a682caddf27"
      },
      "source": [
        "import matplotlib.pyplot as plt\n",
        "plt.figure(figsize = (17,10))\n",
        "corr = data.corr()\n",
        "sn.heatmap(corr, annot = True)"
      ],
      "execution_count": null,
      "outputs": [
        {
          "output_type": "execute_result",
          "data": {
            "text/plain": [
              "<matplotlib.axes._subplots.AxesSubplot at 0x7f71b9232d30>"
            ]
          },
          "metadata": {
            "tags": []
          },
          "execution_count": 227
        },
        {
          "output_type": "display_data",
          "data": {
            "image/png": "[encoded data removed]",
            "text/plain": [
              "<Figure size 1224x720 with 2 Axes>"
            ]
          },
          "metadata": {
            "tags": [],
            "needs_background": "light"
          }
        }
      ]
    },
    {
      "cell_type": "code",
      "metadata": {
        "id": "HfXL1uPq-qJf"
      },
      "source": [
        "x=x.values"
      ],
      "execution_count": null,
      "outputs": []
    },
    {
      "cell_type": "markdown",
      "metadata": {
        "id": "8-uQ7ScCiKXI"
      },
      "source": [
        "# Before Pre processing"
      ]
    },
    {
      "cell_type": "code",
      "metadata": {
        "id": "Mtog_e0U_Dwy"
      },
      "source": [
        "from sklearn.model_selection import train_test_split\n",
        "x_train, x_test, y_train, y_test = train_test_split(x,y,test_size=0.10,random_state=0)"
      ],
      "execution_count": null,
      "outputs": []
    },
    {
      "cell_type": "code",
      "metadata": {
        "id": "qgvLALJKTyKm"
      },
      "source": [
        "from sklearn import preprocessing\n",
        "from sklearn.model_selection import cross_val_score, cross_val_predict\n",
        "from sklearn.metrics import accuracy_score, classification_report\n",
        "from sklearn.metrics import confusion_matrix, roc_auc_score\n",
        "def print_score(clf, X_train, X_test, y_train, y_test, train=True):\n",
        "    '''\n",
        "    v0.1 Follow the scikit learn library format in terms of input\n",
        "    print the accuracy score, classification report and confusion matrix of classifier\n",
        "    '''\n",
        "    lb = preprocessing.LabelBinarizer()\n",
        "    lb.fit(y_train)\n",
        "    if train:\n",
        "        '''\n",
        "        training performance\n",
        "        '''\n",
        "        res = clf.predict(X_train)\n",
        "        print(\"Train Result:\\n\")\n",
        "        print(\"accuracy score: {0:.4f}\\n\".format(accuracy_score(y_train, \n",
        "                                                                res)))\n",
        "        print(\"Classification Report: \\n {}\\n\".format(classification_report(y_train, \n",
        "                                                                            res)))\n",
        "        print(\"Confusion Matrix: \\n {}\\n\".format(confusion_matrix(y_train, \n",
        "                                                                  res)))\n",
        "        print(\"ROC AUC: {0:.4f}\\n\".format(roc_auc_score(lb.transform(y_train), \n",
        "                                                      lb.transform(res))))\n",
        "\n",
        "        res = cross_val_score(clf, X_train, y_train, cv=10, scoring='accuracy')\n",
        "        print(\"Average Accuracy: \\t {0:.4f}\".format(np.mean(res)))\n",
        "        print(\"Accuracy SD: \\t\\t {0:.4f}\".format(np.std(res)))\n",
        "        \n",
        "    elif train==False:\n",
        "        '''\n",
        "        test performance\n",
        "        '''\n",
        "        res_test = clf.predict(X_test)\n",
        "        print(\"Test Result:\\n\")        \n",
        "        print(\"accuracy score: {0:.4f}\\n\".format(accuracy_score(y_test, \n",
        "                                                                res_test)))\n",
        "        print(\"Classification Report: \\n {}\\n\".format(classification_report(y_test, \n",
        "                                                                            res_test)))\n",
        "        print(\"Confusion Matrix: \\n {}\\n\".format(confusion_matrix(y_test, \n",
        "                                                                  res_test)))   \n",
        "        print(\"ROC AUC: {0:.4f}\\n\".format(roc_auc_score(lb.transform(y_test), \n",
        "                                                      lb.transform(res_test))))"
      ],
      "execution_count": null,
      "outputs": []
    },
    {
      "cell_type": "markdown",
      "metadata": {
        "id": "k5OEUaTKjvft"
      },
      "source": [
        "## KNN"
      ]
    },
    {
      "cell_type": "code",
      "metadata": {
        "colab": {
          "base_uri": "https://localhost:8080/"
        },
        "id": "eKA2OB5x_Sd-",
        "outputId": "fb7a9a25-92e9-4743-8b39-e33852ba95dc"
      },
      "source": [
        "from sklearn.neighbors import KNeighborsClassifier\n",
        "from sklearn import metrics\n",
        "KNN= KNeighborsClassifier(n_neighbors=10)\n",
        "KNN.fit(x_train, y_train)\n",
        "y_pred = KNN.predict(x_test)\n",
        "print(\"Accuracy:\",metrics.accuracy_score(y_test, y_pred))"
      ],
      "execution_count": null,
      "outputs": [
        {
          "output_type": "stream",
          "text": [
            "Accuracy: 0.15\n"
          ],
          "name": "stdout"
        }
      ]
    },
    {
      "cell_type": "markdown",
      "metadata": {
        "id": "NyHYg7fhj0sm"
      },
      "source": [
        "## SVM"
      ]
    },
    {
      "cell_type": "code",
      "metadata": {
        "id": "W1BYT61a_7R7",
        "colab": {
          "base_uri": "https://localhost:8080/"
        },
        "outputId": "bca12479-a478-4346-bdd9-7eb10ffb15ee"
      },
      "source": [
        "from sklearn import svm\n",
        "clf_svm = svm.SVC(kernel='linear')\n",
        "clf_svm.fit(x_train, y_train)\n",
        "y_pred = clf_svm.predict(x_test)\n",
        "print(\"Accuracy:\",metrics.accuracy_score(y_test, y_pred))"
      ],
      "execution_count": null,
      "outputs": [
        {
          "output_type": "stream",
          "text": [
            "Accuracy: 0.35\n"
          ],
          "name": "stdout"
        }
      ]
    },
    {
      "cell_type": "markdown",
      "metadata": {
        "id": "EFOWmX88j20f"
      },
      "source": [
        "## Decision Tree"
      ]
    },
    {
      "cell_type": "code",
      "metadata": {
        "id": "Ixo5Ql48CmWE",
        "colab": {
          "base_uri": "https://localhost:8080/"
        },
        "outputId": "db9de19b-65e2-4c16-c83b-914152d02de1"
      },
      "source": [
        "from sklearn.tree import DecisionTreeClassifier\n",
        "from sklearn import metrics\n",
        "DT = DecisionTreeClassifier(random_state=0)\n",
        "DT = DT.fit(x_train,y_train)\n",
        "y_pred = DT.predict(x_test)\n",
        "print(\"Accuracy:\",metrics.accuracy_score(y_test, y_pred))"
      ],
      "execution_count": null,
      "outputs": [
        {
          "output_type": "stream",
          "text": [
            "Accuracy: 0.5333333333333333\n"
          ],
          "name": "stdout"
        }
      ]
    },
    {
      "cell_type": "markdown",
      "metadata": {
        "id": "THL6zU3Vj6Oi"
      },
      "source": [
        "## Random Forest"
      ]
    },
    {
      "cell_type": "code",
      "metadata": {
        "colab": {
          "base_uri": "https://localhost:8080/"
        },
        "id": "Nj9pEOrrECpF",
        "outputId": "7baaa5d1-7aaf-4892-ec81-3ae32118bfcb"
      },
      "source": [
        "from sklearn.ensemble import RandomForestClassifier\n",
        "from sklearn import metrics\n",
        "RF = RandomForestClassifier(random_state=0)\n",
        "RF = RF.fit(x_train,y_train)\n",
        "y_pred = RF.predict(x_test)\n",
        "print(\"Accuracy:\",metrics.accuracy_score(y_test, y_pred))"
      ],
      "execution_count": null,
      "outputs": [
        {
          "output_type": "stream",
          "text": [
            "Accuracy: 0.5333333333333333\n"
          ],
          "name": "stdout"
        }
      ]
    },
    {
      "cell_type": "markdown",
      "metadata": {
        "id": "etHgEZOij780"
      },
      "source": [
        "## Gradient Boosting"
      ]
    },
    {
      "cell_type": "code",
      "metadata": {
        "colab": {
          "base_uri": "https://localhost:8080/"
        },
        "id": "T5_kjOZ6EcDV",
        "outputId": "4f85c826-5854-49c4-e3e6-f15115977a99"
      },
      "source": [
        "from sklearn.ensemble import GradientBoostingClassifier\n",
        "from sklearn import metrics\n",
        "clf = GradientBoostingClassifier()\n",
        "clf = clf.fit(x_train,y_train)\n",
        "y_pred = clf.predict(x_test)\n",
        "print(\"Accuracy:\",metrics.accuracy_score(y_test, y_pred))"
      ],
      "execution_count": null,
      "outputs": [
        {
          "output_type": "stream",
          "text": [
            "Accuracy: 0.6166666666666667\n"
          ],
          "name": "stdout"
        }
      ]
    },
    {
      "cell_type": "markdown",
      "metadata": {
        "id": "9getPnadkGAK"
      },
      "source": [
        "## XGB Boost"
      ]
    },
    {
      "cell_type": "code",
      "metadata": {
        "colab": {
          "base_uri": "https://localhost:8080/"
        },
        "id": "5cBCqSiqJ_Q6",
        "outputId": "d5fa6b33-4f89-4715-e2b2-abb0b41ec39e"
      },
      "source": [
        "import xgboost as xgb\n",
        "from sklearn import metrics\n",
        "clf = xgb.XGBClassifier()\n",
        "clf = clf.fit(x_train,y_train)\n",
        "y_pred = clf.predict(x_test)\n",
        "print(\"Accuracy:\",metrics.accuracy_score(y_test, y_pred))"
      ],
      "execution_count": null,
      "outputs": [
        {
          "output_type": "stream",
          "text": [
            "Accuracy: 0.5833333333333334\n"
          ],
          "name": "stdout"
        }
      ]
    },
    {
      "cell_type": "markdown",
      "metadata": {
        "id": "ZBhbCEX8kMXa"
      },
      "source": [
        "## Bagging"
      ]
    },
    {
      "cell_type": "code",
      "metadata": {
        "colab": {
          "base_uri": "https://localhost:8080/"
        },
        "id": "yxI14mZ9jGie",
        "outputId": "44d96896-a083-4275-a8ae-89a61c8504c5"
      },
      "source": [
        "from sklearn.ensemble import BaggingClassifier\n",
        "bag_clf = BaggingClassifier()\n",
        "bag_clf=bag_clf.fit(x_train, y_train)\n",
        "y_pred = bag_clf.predict(x_test)\n",
        "print(\"Accuracy:\",metrics.accuracy_score(y_test, y_pred))"
      ],
      "execution_count": null,
      "outputs": [
        {
          "output_type": "stream",
          "text": [
            "Accuracy: 0.5666666666666667\n"
          ],
          "name": "stdout"
        }
      ]
    },
    {
      "cell_type": "markdown",
      "metadata": {
        "id": "RUxF1TRlkWUU"
      },
      "source": [
        "## Ada Boost"
      ]
    },
    {
      "cell_type": "code",
      "metadata": {
        "colab": {
          "base_uri": "https://localhost:8080/"
        },
        "id": "kYAJSmsZknwJ",
        "outputId": "d26146d7-cb72-40bc-80ac-bd21c4ef5a09"
      },
      "source": [
        "from sklearn.ensemble import AdaBoostClassifier\n",
        "from sklearn import metrics\n",
        "abc = AdaBoostClassifier()\n",
        "model = abc.fit(x_train, y_train)\n",
        "y_pred = model.predict(x_test)\n",
        "print(\"Accuracy:\",metrics.accuracy_score(y_test, y_pred))"
      ],
      "execution_count": null,
      "outputs": [
        {
          "output_type": "stream",
          "text": [
            "Accuracy: 0.31666666666666665\n"
          ],
          "name": "stdout"
        }
      ]
    },
    {
      "cell_type": "markdown",
      "metadata": {
        "id": "Uu3OyLcplEfH"
      },
      "source": [
        "## Ada Boost + Random Forest"
      ]
    },
    {
      "cell_type": "code",
      "metadata": {
        "colab": {
          "base_uri": "https://localhost:8080/"
        },
        "id": "jqxuEvtVlV9l",
        "outputId": "ace2532e-519d-4e47-90e1-5981b511fe90"
      },
      "source": [
        "from sklearn.ensemble import RandomForestClassifier\n",
        "clf=RandomForestClassifier(n_estimators=100)\n",
        "clf.fit(x_train,y_train)\n",
        "y_pred=clf.predict(x_test)\n",
        "print(\"Accuracy:\",metrics.accuracy_score(y_test, y_pred))"
      ],
      "execution_count": null,
      "outputs": [
        {
          "output_type": "stream",
          "text": [
            "Accuracy: 0.5333333333333333\n"
          ],
          "name": "stdout"
        }
      ]
    },
    {
      "cell_type": "markdown",
      "metadata": {
        "id": "_Elq12e6qG4r"
      },
      "source": [
        "## Naive Bayes Guassian Classifier"
      ]
    },
    {
      "cell_type": "code",
      "metadata": {
        "colab": {
          "base_uri": "https://localhost:8080/"
        },
        "id": "EYMFtNBXp3S0",
        "outputId": "f4a65141-126a-4d42-d05c-0f90370bc986"
      },
      "source": [
        "from sklearn.model_selection import train_test_split\n",
        "from sklearn.naive_bayes import GaussianNB\n",
        "gnb = GaussianNB()\n",
        "y_pred = gnb.fit(x_train, y_train).predict(x_test)\n",
        "print(\"Accuracy:\",metrics.accuracy_score(y_test, y_pred))"
      ],
      "execution_count": null,
      "outputs": [
        {
          "output_type": "stream",
          "text": [
            "Accuracy: 0.18333333333333332\n"
          ],
          "name": "stdout"
        }
      ]
    },
    {
      "cell_type": "markdown",
      "metadata": {
        "id": "SmbA9JiTqOd3"
      },
      "source": [
        "## Naive Bayes Multinomial Classifier"
      ]
    },
    {
      "cell_type": "code",
      "metadata": {
        "colab": {
          "base_uri": "https://localhost:8080/"
        },
        "id": "zlARSCemqTz6",
        "outputId": "65643db9-e6d3-43aa-b534-4fa7d2472475"
      },
      "source": [
        "from sklearn.naive_bayes import MultinomialNB\n",
        "clf = MultinomialNB()\n",
        "clf.fit(x_train,y_train)\n",
        "y_pred=clf.predict(x_test)\n",
        "print(\"Accuracy:\",metrics.accuracy_score(y_test, y_pred))"
      ],
      "execution_count": null,
      "outputs": [
        {
          "output_type": "stream",
          "text": [
            "Accuracy: 0.2\n"
          ],
          "name": "stdout"
        }
      ]
    },
    {
      "cell_type": "markdown",
      "metadata": {
        "id": "XlqjvR_SoRML"
      },
      "source": [
        "## Single Classifier"
      ]
    },
    {
      "cell_type": "code",
      "metadata": {
        "colab": {
          "base_uri": "https://localhost:8080/"
        },
        "id": "HUw0gMKRoUqI",
        "outputId": "feac5fd2-ac89-4f4d-d9f8-1cf9bbc8ae91"
      },
      "source": [
        "RF=RandomForestClassifier()\n",
        "Abc=AdaBoostClassifier(base_estimator=RF)     #ada\n",
        "bag_clf=BaggingClassifier(base_estimator=Abc)  #bagging\n",
        "bag_clf.fit(x_train, y_train)\n",
        "y_pred=bag_clf.predict(x_test)\n",
        "print(\"Accuracy:\",metrics.accuracy_score(y_test, y_pred))"
      ],
      "execution_count": null,
      "outputs": [
        {
          "output_type": "stream",
          "text": [
            "Accuracy: 0.5333333333333333\n"
          ],
          "name": "stdout"
        }
      ]
    },
    {
      "cell_type": "markdown",
      "metadata": {
        "id": "vF2NlymrnsWo"
      },
      "source": [
        "## Meta Classifier"
      ]
    },
    {
      "cell_type": "code",
      "metadata": {
        "colab": {
          "base_uri": "https://localhost:8080/"
        },
        "id": "JgedCxv3nvp5",
        "outputId": "a36a8018-5a26-4917-fd86-6bba667e5cd5"
      },
      "source": [
        "from sklearn.linear_model import LogisticRegression\n",
        "LR= LogisticRegression(random_state=0)\n",
        "LR.fit(x_train, y_train)"
      ],
      "execution_count": null,
      "outputs": [
        {
          "output_type": "stream",
          "text": [
            "/usr/local/lib/python3.6/dist-packages/sklearn/linear_model/_logistic.py:940: ConvergenceWarning: lbfgs failed to converge (status=1):\n",
            "STOP: TOTAL NO. of ITERATIONS REACHED LIMIT.\n",
            "\n",
            "Increase the number of iterations (max_iter) or scale the data as shown in:\n",
            "    https://scikit-learn.org/stable/modules/preprocessing.html\n",
            "Please also refer to the documentation for alternative solver options:\n",
            "    https://scikit-learn.org/stable/modules/linear_model.html#logistic-regression\n",
            "  extra_warning_msg=_LOGISTIC_SOLVER_CONVERGENCE_MSG)\n"
          ],
          "name": "stderr"
        },
        {
          "output_type": "execute_result",
          "data": {
            "text/plain": [
              "LogisticRegression(C=1.0, class_weight=None, dual=False, fit_intercept=True,\n",
              "                   intercept_scaling=1, l1_ratio=None, max_iter=100,\n",
              "                   multi_class='auto', n_jobs=None, penalty='l2',\n",
              "                   random_state=0, solver='lbfgs', tol=0.0001, verbose=0,\n",
              "                   warm_start=False)"
            ]
          },
          "metadata": {
            "tags": []
          },
          "execution_count": 204
        }
      ]
    },
    {
      "cell_type": "code",
      "metadata": {
        "colab": {
          "base_uri": "https://localhost:8080/"
        },
        "id": "r2HAwl2gmFDl",
        "outputId": "789a8717-193f-46a6-b789-cdcc0e1075d5"
      },
      "source": [
        "from sklearn.ensemble import StackingClassifier\n",
        "from mlxtend.classifier import StackingClassifier\n",
        "meta=StackingClassifier(classifiers=[DT,RF],meta_classifier=LR)\n",
        "meta.fit(x_train, y_train)\n",
        "y_pred=meta.predict(x_test)\n",
        "print(\"Accuracy:\",metrics.accuracy_score(y_test, y_pred))"
      ],
      "execution_count": null,
      "outputs": [
        {
          "output_type": "stream",
          "text": [
            "Accuracy: 0.4\n"
          ],
          "name": "stdout"
        },
        {
          "output_type": "stream",
          "text": [
            "/usr/local/lib/python3.6/dist-packages/sklearn/linear_model/_logistic.py:940: ConvergenceWarning: lbfgs failed to converge (status=1):\n",
            "STOP: TOTAL NO. of ITERATIONS REACHED LIMIT.\n",
            "\n",
            "Increase the number of iterations (max_iter) or scale the data as shown in:\n",
            "    https://scikit-learn.org/stable/modules/preprocessing.html\n",
            "Please also refer to the documentation for alternative solver options:\n",
            "    https://scikit-learn.org/stable/modules/linear_model.html#logistic-regression\n",
            "  extra_warning_msg=_LOGISTIC_SOLVER_CONVERGENCE_MSG)\n"
          ],
          "name": "stderr"
        }
      ]
    },
    {
      "cell_type": "markdown",
      "metadata": {
        "id": "nrsAWHyPFB4o"
      },
      "source": [
        "# Filling missing Values"
      ]
    },
    {
      "cell_type": "code",
      "metadata": {
        "id": "H1XdWuVmLg0H"
      },
      "source": [
        "datacopy=data"
      ],
      "execution_count": null,
      "outputs": []
    },
    {
      "cell_type": "code",
      "metadata": {
        "colab": {
          "base_uri": "https://localhost:8080/",
          "height": 215
        },
        "id": "EDksZaPpLRTg",
        "outputId": "f7be4fa8-e1d6-4dfa-a9e4-300b1c16484c"
      },
      "source": [
        "da=datacopy\n",
        "da.head()"
      ],
      "execution_count": null,
      "outputs": [
        {
          "output_type": "execute_result",
          "data": {
            "text/html": [
              "<div>\n",
              "<style scoped>\n",
              "    .dataframe tbody tr th:only-of-type {\n",
              "        vertical-align: middle;\n",
              "    }\n",
              "\n",
              "    .dataframe tbody tr th {\n",
              "        vertical-align: top;\n",
              "    }\n",
              "\n",
              "    .dataframe thead th {\n",
              "        text-align: right;\n",
              "    }\n",
              "</style>\n",
              "<table border=\"1\" class=\"dataframe\">\n",
              "  <thead>\n",
              "    <tr style=\"text-align: right;\">\n",
              "      <th></th>\n",
              "      <th>Name</th>\n",
              "      <th>Type_1</th>\n",
              "      <th>Type_2</th>\n",
              "      <th>Total</th>\n",
              "      <th>HP</th>\n",
              "      <th>Attack</th>\n",
              "      <th>Defense</th>\n",
              "      <th>Sp_Atk</th>\n",
              "      <th>Sp_Def</th>\n",
              "      <th>Speed</th>\n",
              "      <th>Generation</th>\n",
              "      <th>isLegendary</th>\n",
              "      <th>Color</th>\n",
              "      <th>hasGender</th>\n",
              "      <th>Pr_Male</th>\n",
              "      <th>Egg_Group_1</th>\n",
              "      <th>Egg_Group_2</th>\n",
              "      <th>hasMegaEvolution</th>\n",
              "      <th>Height_m</th>\n",
              "      <th>Weight_kg</th>\n",
              "      <th>Catch_Rate</th>\n",
              "      <th>Body_Style</th>\n",
              "    </tr>\n",
              "  </thead>\n",
              "  <tbody>\n",
              "    <tr>\n",
              "      <th>0</th>\n",
              "      <td>Bulbasaur</td>\n",
              "      <td>9</td>\n",
              "      <td>14</td>\n",
              "      <td>318.0</td>\n",
              "      <td>45.0</td>\n",
              "      <td>49.0</td>\n",
              "      <td>49.0</td>\n",
              "      <td>65.0</td>\n",
              "      <td>65.0</td>\n",
              "      <td>45.0</td>\n",
              "      <td>1</td>\n",
              "      <td>False</td>\n",
              "      <td>3</td>\n",
              "      <td>True</td>\n",
              "      <td>0.875</td>\n",
              "      <td>10</td>\n",
              "      <td>6</td>\n",
              "      <td>False</td>\n",
              "      <td>0.71</td>\n",
              "      <td>6.9</td>\n",
              "      <td>45</td>\n",
              "      <td>9</td>\n",
              "    </tr>\n",
              "    <tr>\n",
              "      <th>1</th>\n",
              "      <td>Ivysaur</td>\n",
              "      <td>9</td>\n",
              "      <td>14</td>\n",
              "      <td>405.0</td>\n",
              "      <td>60.0</td>\n",
              "      <td>62.0</td>\n",
              "      <td>63.0</td>\n",
              "      <td>80.0</td>\n",
              "      <td>80.0</td>\n",
              "      <td>60.0</td>\n",
              "      <td>1</td>\n",
              "      <td>False</td>\n",
              "      <td>3</td>\n",
              "      <td>True</td>\n",
              "      <td>0.875</td>\n",
              "      <td>10</td>\n",
              "      <td>6</td>\n",
              "      <td>False</td>\n",
              "      <td>0.99</td>\n",
              "      <td>13.0</td>\n",
              "      <td>45</td>\n",
              "      <td>9</td>\n",
              "    </tr>\n",
              "    <tr>\n",
              "      <th>2</th>\n",
              "      <td>Venusaur</td>\n",
              "      <td>9</td>\n",
              "      <td>14</td>\n",
              "      <td>525.0</td>\n",
              "      <td>80.0</td>\n",
              "      <td>82.0</td>\n",
              "      <td>83.0</td>\n",
              "      <td>100.0</td>\n",
              "      <td>100.0</td>\n",
              "      <td>80.0</td>\n",
              "      <td>1</td>\n",
              "      <td>False</td>\n",
              "      <td>3</td>\n",
              "      <td>True</td>\n",
              "      <td>0.875</td>\n",
              "      <td>10</td>\n",
              "      <td>6</td>\n",
              "      <td>True</td>\n",
              "      <td>2.01</td>\n",
              "      <td>100.0</td>\n",
              "      <td>45</td>\n",
              "      <td>9</td>\n",
              "    </tr>\n",
              "    <tr>\n",
              "      <th>3</th>\n",
              "      <td>Charmander</td>\n",
              "      <td>6</td>\n",
              "      <td>12</td>\n",
              "      <td>309.0</td>\n",
              "      <td>39.0</td>\n",
              "      <td>52.0</td>\n",
              "      <td>43.0</td>\n",
              "      <td>60.0</td>\n",
              "      <td>50.0</td>\n",
              "      <td>NaN</td>\n",
              "      <td>1</td>\n",
              "      <td>False</td>\n",
              "      <td>7</td>\n",
              "      <td>True</td>\n",
              "      <td>0.875</td>\n",
              "      <td>10</td>\n",
              "      <td>2</td>\n",
              "      <td>False</td>\n",
              "      <td>0.61</td>\n",
              "      <td>8.5</td>\n",
              "      <td>45</td>\n",
              "      <td>0</td>\n",
              "    </tr>\n",
              "    <tr>\n",
              "      <th>4</th>\n",
              "      <td>Charmeleon</td>\n",
              "      <td>6</td>\n",
              "      <td>12</td>\n",
              "      <td>NaN</td>\n",
              "      <td>58.0</td>\n",
              "      <td>64.0</td>\n",
              "      <td>58.0</td>\n",
              "      <td>80.0</td>\n",
              "      <td>65.0</td>\n",
              "      <td>80.0</td>\n",
              "      <td>1</td>\n",
              "      <td>False</td>\n",
              "      <td>7</td>\n",
              "      <td>True</td>\n",
              "      <td>0.875</td>\n",
              "      <td>10</td>\n",
              "      <td>2</td>\n",
              "      <td>False</td>\n",
              "      <td>1.09</td>\n",
              "      <td>19.0</td>\n",
              "      <td>45</td>\n",
              "      <td>0</td>\n",
              "    </tr>\n",
              "  </tbody>\n",
              "</table>\n",
              "</div>"
            ],
            "text/plain": [
              "         Name  Type_1  Type_2  ...  Weight_kg  Catch_Rate  Body_Style\n",
              "0   Bulbasaur       9      14  ...        6.9          45           9\n",
              "1     Ivysaur       9      14  ...       13.0          45           9\n",
              "2    Venusaur       9      14  ...      100.0          45           9\n",
              "3  Charmander       6      12  ...        8.5          45           0\n",
              "4  Charmeleon       6      12  ...       19.0          45           0\n",
              "\n",
              "[5 rows x 22 columns]"
            ]
          },
          "metadata": {
            "tags": []
          },
          "execution_count": 235
        }
      ]
    },
    {
      "cell_type": "markdown",
      "metadata": {
        "id": "KvM72RkYsDeD"
      },
      "source": [
        "## 1) Mean"
      ]
    },
    {
      "cell_type": "code",
      "metadata": {
        "id": "7fxvylTwr96o"
      },
      "source": [
        "da['Total']=da['Total'].fillna(value=da['Total'].mean())\n",
        "da['HP']=da['HP'].fillna(value=da['HP'].mean())\n",
        "da['Attack']=da['Attack'].fillna(value=da['Attack'].mean())\n",
        "da['Defense']=da['Defense'].fillna(value=da['Defense'].mean())\n",
        "da['Sp_Atk']=da['Sp_Atk'].fillna(value=da['Sp_Atk'].mean())\n",
        "da['Sp_Def']=da['Sp_Def'].fillna(value=da['Sp_Def'].mean())\n",
        "da['Speed']=da['Speed'].fillna(value=da['Speed'].mean())\n",
        "da['Pr_Male']=da['Pr_Male'].fillna(value=da['Pr_Male'].mean())"
      ],
      "execution_count": null,
      "outputs": []
    },
    {
      "cell_type": "code",
      "metadata": {
        "id": "SrbrNY36YgDY"
      },
      "source": [
        "ym=da['Type_1']"
      ],
      "execution_count": null,
      "outputs": []
    },
    {
      "cell_type": "code",
      "metadata": {
        "id": "XjSJ5Ch5Y7R1"
      },
      "source": [
        "ym=ym.values"
      ],
      "execution_count": null,
      "outputs": []
    },
    {
      "cell_type": "code",
      "metadata": {
        "id": "hKopS2fNYTjA"
      },
      "source": [
        "xm=da.drop('Type_1',axis=1)"
      ],
      "execution_count": null,
      "outputs": []
    },
    {
      "cell_type": "code",
      "metadata": {
        "id": "q_piZ046YtwG"
      },
      "source": [
        "xm=xm.drop('Name',axis=1)"
      ],
      "execution_count": null,
      "outputs": []
    },
    {
      "cell_type": "code",
      "metadata": {
        "id": "Ao0PEqvnY2gu"
      },
      "source": [
        "xm=xm.values"
      ],
      "execution_count": null,
      "outputs": []
    },
    {
      "cell_type": "markdown",
      "metadata": {
        "id": "JuEmnH37tz5C"
      },
      "source": [
        "## 2) KNN_Imputer"
      ]
    },
    {
      "cell_type": "code",
      "metadata": {
        "id": "_nhHfPU3J4Cn"
      },
      "source": [
        "da=da.drop('Name',axis=1)"
      ],
      "execution_count": null,
      "outputs": []
    },
    {
      "cell_type": "code",
      "metadata": {
        "id": "13fqg2Rht4qH"
      },
      "source": [
        "from sklearn.impute import KNNImputer\n",
        "imputer = KNNImputer()\n",
        "da=imputer.fit_transform(da)"
      ],
      "execution_count": null,
      "outputs": []
    },
    {
      "cell_type": "markdown",
      "metadata": {
        "id": "fYfdbRMoz9nL"
      },
      "source": [
        "## 3) Interpolation"
      ]
    },
    {
      "cell_type": "code",
      "metadata": {
        "id": "njgYaRexz7T8"
      },
      "source": [
        "data=data.interpolate(method ='linear', limit_direction ='forward')"
      ],
      "execution_count": null,
      "outputs": []
    },
    {
      "cell_type": "markdown",
      "metadata": {
        "id": "QnTbtEka1k3-"
      },
      "source": [
        "## 4) Replace with 0"
      ]
    },
    {
      "cell_type": "code",
      "metadata": {
        "id": "Lz2LPwEIIKVE"
      },
      "source": [
        "data=data.replace(np.nan,0)"
      ],
      "execution_count": null,
      "outputs": []
    },
    {
      "cell_type": "markdown",
      "metadata": {
        "id": "n2xvoAHW0QCa"
      },
      "source": [
        "# Pre processing Techniques"
      ]
    },
    {
      "cell_type": "code",
      "metadata": {
        "colab": {
          "base_uri": "https://localhost:8080/"
        },
        "id": "0Ea747zjP4Pc",
        "outputId": "902342cf-9725-4db1-e722-5eae57966aff"
      },
      "source": [
        "data.isnull().sum()"
      ],
      "execution_count": null,
      "outputs": [
        {
          "output_type": "execute_result",
          "data": {
            "text/plain": [
              "Name                0\n",
              "Type_1              0\n",
              "Type_2              0\n",
              "Total               0\n",
              "HP                  0\n",
              "Attack              0\n",
              "Defense             0\n",
              "Sp_Atk              0\n",
              "Sp_Def              0\n",
              "Speed               0\n",
              "Generation          0\n",
              "isLegendary         0\n",
              "Color               0\n",
              "hasGender           0\n",
              "Pr_Male             0\n",
              "Egg_Group_1         0\n",
              "Egg_Group_2         0\n",
              "hasMegaEvolution    0\n",
              "Height_m            0\n",
              "Weight_kg           0\n",
              "Catch_Rate          0\n",
              "Body_Style          0\n",
              "dtype: int64"
            ]
          },
          "metadata": {
            "tags": []
          },
          "execution_count": 14
        }
      ]
    },
    {
      "cell_type": "markdown",
      "metadata": {
        "id": "qtEnA_pW0XGs"
      },
      "source": [
        "## 1) Standard Scalar"
      ]
    },
    {
      "cell_type": "code",
      "metadata": {
        "id": "PtqlaI-QAvFS"
      },
      "source": [
        "from sklearn.preprocessing import StandardScaler\n",
        "scaler = StandardScaler()\n",
        "\n",
        "xm =scaler.fit_transform(xm)\n"
      ],
      "execution_count": null,
      "outputs": []
    },
    {
      "cell_type": "code",
      "metadata": {
        "colab": {
          "base_uri": "https://localhost:8080/"
        },
        "id": "kfEAk61tA1JH",
        "outputId": "53ecd0f3-7529-46b9-9206-37ff4787131c"
      },
      "source": [
        "xm"
      ],
      "execution_count": null,
      "outputs": [
        {
          "output_type": "execute_result",
          "data": {
            "text/plain": [
              "array([[ 0.91803069, -0.92136404, -0.91325774, ..., -0.56016184,\n",
              "        -0.72198897,  0.82357348],\n",
              "       [ 0.91803069, -0.12231667, -0.33053682, ..., -0.49164858,\n",
              "        -0.72198897,  0.82357348],\n",
              "       [ 0.91803069,  0.97981763,  0.44642441, ...,  0.48550776,\n",
              "        -0.72198897,  0.82357348],\n",
              "       ...,\n",
              "       [-1.82844287,  1.66865157, -0.71901743, ..., -0.53882164,\n",
              "        -1.27086227, -0.50532577],\n",
              "       [-0.72985345,  1.66865157,  0.44642441, ..., -0.53657531,\n",
              "        -1.27086227,  0.15912386],\n",
              "       [ 2.01662012,  1.66865157,  0.44642441, ...,  1.55251756,\n",
              "        -1.27086227,  0.82357348]])"
            ]
          },
          "metadata": {
            "tags": []
          },
          "execution_count": 96
        }
      ]
    },
    {
      "cell_type": "code",
      "metadata": {
        "colab": {
          "base_uri": "https://localhost:8080/"
        },
        "id": "Wpz3DRHHZFeq",
        "outputId": "c23ea753-0d7c-4e2f-f79d-dda1c372fc71"
      },
      "source": [
        "ym"
      ],
      "execution_count": null,
      "outputs": [
        {
          "output_type": "execute_result",
          "data": {
            "text/plain": [
              "array([ 9,  9,  9,  6,  6,  6, 17, 17, 17,  0,  0,  0,  0,  0,  0, 12, 12,\n",
              "       12, 12, 12, 12, 12, 13, 13,  3,  3, 10, 10, 13, 13, 13, 13, 13, 13,\n",
              "        4,  4,  6,  6, 12, 12, 13, 13,  9,  9,  9,  0,  0,  0,  0, 10, 10,\n",
              "       12, 12, 17, 17,  5,  5,  6,  6, 17, 17, 17, 14, 14, 14,  5,  5,  5,\n",
              "        9,  9,  9, 17, 17, 15, 15, 15,  6,  6, 17, 17,  3,  3, 12, 12, 12,\n",
              "       17, 17, 13, 13, 17, 17,  8,  8,  8, 15, 14, 14, 17, 17,  3,  3,  9,\n",
              "        9, 10, 10,  5,  5, 12, 13, 13, 10, 10, 12,  9, 12, 17, 17, 17, 17,\n",
              "       17, 17, 14,  0, 11,  3,  6,  0, 12, 17, 17, 17, 12, 12, 17,  3,  6,\n",
              "       12, 15, 15, 15, 15, 15, 12, 11,  3,  6,  2,  2,  2, 14, 14,  9,  9,\n",
              "        9,  6,  6,  6, 17, 17, 17, 12, 12, 12, 12,  0,  0,  0,  0, 13, 17,\n",
              "       17,  3,  4, 12,  4,  4, 14, 14,  3,  3,  3,  9, 17, 17, 15, 17,  9,\n",
              "        9,  9, 12,  9,  9,  0, 17, 17, 14,  1,  1, 17,  8, 14, 14, 12,  0,\n",
              "        0, 12, 10, 16,  4,  4, 17,  0,  0,  0,  1, 12, 12,  6,  6, 11, 11,\n",
              "       17, 17, 17, 11, 17, 16,  1,  1, 17, 10, 10, 12, 12, 12,  5,  5, 11,\n",
              "        3,  6, 12, 12,  3,  6, 17, 15, 15, 15, 14,  6, 14,  9,  9,  9,  6,\n",
              "        6,  6, 17, 17, 17,  1,  1, 12, 12,  0,  0,  0,  0,  0, 17, 17, 17,\n",
              "        9,  9,  9, 12, 12, 17, 17, 14, 14, 14,  0,  0,  9,  9, 12, 12, 12,\n",
              "        0,  0,  0, 12, 12, 12,  5,  5, 12, 15, 12, 12,  1, 16, 16, 16, 16,\n",
              "        5,  5,  3,  3,  3,  3,  0,  0,  9, 13, 13, 17, 17, 17, 17,  6,  6,\n",
              "        6, 14, 14, 12, 10, 10, 10,  9,  9, 12,  2, 12, 13, 15, 15, 17, 17,\n",
              "       17, 17, 10, 10, 15, 15, 15, 15, 17, 17, 12, 12,  8,  8,  8,  8,  9,\n",
              "       14,  1, 14, 11, 11, 11, 11, 11, 17, 17, 17, 17, 17,  2,  2,  2, 16,\n",
              "       16, 16, 15, 11, 16,  2,  2, 17, 10,  2, 16, 14,  9,  9,  9,  6,  6,\n",
              "        6, 17, 17, 17, 12, 12, 12, 12, 12,  0,  0,  3,  3,  3,  9,  9, 15,\n",
              "       15, 15, 15,  0,  0,  0,  0,  0,  3, 17, 17,  9,  9, 17, 17, 12,  8,\n",
              "        8, 12, 12,  8,  1, 12, 12, 14, 13, 13, 16, 16, 15, 14, 12, 12,  8,\n",
              "        2,  2,  2, 12,  5,  5, 10, 10, 13, 13, 13, 13,  9, 17, 17, 17,  9,\n",
              "        9,  1,  3, 12, 10,  9,  3,  6,  4,  0,  9, 11, 10, 11, 12, 14, 15,\n",
              "        8, 11,  3, 14, 14, 14, 16, 17,  6, 12,  8, 14, 17, 17,  1,  9, 12,\n",
              "       14,  9,  9,  9,  6,  6,  6, 17, 17, 17, 12, 12, 12, 12, 12,  1,  1,\n",
              "        9,  9,  6,  6, 17, 17, 14, 14, 12, 12, 12,  3,  3, 15, 15, 15, 14,\n",
              "       14, 10, 10, 12,  5,  5,  5, 17, 17, 17,  5,  5,  0,  0,  0,  0,  0,\n",
              "        0,  9,  9,  9,  9, 17, 10, 10, 10,  6,  6,  9,  0,  0,  1,  1, 14,\n",
              "        8,  8, 17, 17, 15, 15, 13, 13,  1,  1, 12, 12, 14, 14, 14, 14, 14,\n",
              "       14, 17, 17, 11, 11, 11, 12, 12,  3,  0,  0,  9,  9, 17, 17, 17,  0,\n",
              "        0,  9,  9, 16, 16, 16,  3,  3,  3, 14, 14,  8,  8,  8,  2,  2,  2,\n",
              "       11, 11, 11,  0,  0, 10,  5,  5,  2, 10, 10,  1,  1, 12, 12, 12,  1,\n",
              "        1,  6,  0,  1,  1,  1,  0,  0, 16, 15,  9,  7,  3,  2,  2, 10,  2,\n",
              "       17, 12,  0,  9,  9,  9,  6,  6,  6, 17, 17, 17, 12, 12, 12,  6,  6,\n",
              "        0,  0,  0,  6,  6,  4,  4,  4,  9,  9,  5,  5, 12, 14, 14, 16, 16,\n",
              "       16,  4,  4,  4,  4,  1,  1, 15, 15, 13, 13, 17, 17,  3,  3, 15, 15,\n",
              "       15, 15,  4,  5,  3, 15,  2,  2,  2, 16,  8,  8,  8,  8, 11, 11,  7,\n",
              "        7,  4,  1,  2, 15, 14,  6])"
            ]
          },
          "metadata": {
            "tags": []
          },
          "execution_count": 97
        }
      ]
    },
    {
      "cell_type": "markdown",
      "metadata": {
        "id": "g3BDY5se0gOr"
      },
      "source": [
        "## 2) Min-Max Scaling"
      ]
    },
    {
      "cell_type": "code",
      "metadata": {
        "id": "AUt-dfH70tYN"
      },
      "source": [
        "from sklearn.preprocessing import MinMaxScaler\n",
        "scaler = MinMaxScaler()\n",
        "\n",
        "xms =scaler.fit_transform(xm)\n"
      ],
      "execution_count": null,
      "outputs": []
    },
    {
      "cell_type": "markdown",
      "metadata": {
        "id": "zLJLH91d0y2u"
      },
      "source": [
        "## 3) Label Encoding"
      ]
    },
    {
      "cell_type": "code",
      "metadata": {
        "id": "hOhJQ63KKg0X"
      },
      "source": [
        "data['Type_1']=l.fit_transform(data['Type_1'])\n",
        "data['Type_2']=l.fit_transform(data['Type_2'])\n",
        "data['Color']=l.fit_transform(data['Color'])\n",
        "data['Egg_Group_1']=l.fit_transform(data['Egg_Group_1'])\n",
        "data['Egg_Group_2']=l.fit_transform(data['Egg_Group_2'])\n",
        "data['Body_Style']=l.fit_transform(data['Body_Style'])"
      ],
      "execution_count": null,
      "outputs": []
    },
    {
      "cell_type": "markdown",
      "metadata": {
        "id": "ZblMOK6qVFYK"
      },
      "source": [
        "## 4) Base N Encoding"
      ]
    },
    {
      "cell_type": "code",
      "metadata": {
        "id": "wuyg5idPE1zZ"
      },
      "source": [
        "import category_encoders as ce\n",
        "encoder = ce.BaseNEncoder(cols=[],return_df=True,base=3)\n",
        "data=encoder.fit_transform(data)"
      ],
      "execution_count": null,
      "outputs": []
    },
    {
      "cell_type": "markdown",
      "metadata": {
        "id": "0tYFJcotE3Z5"
      },
      "source": [
        "# After Pre processing"
      ]
    },
    {
      "cell_type": "code",
      "metadata": {
        "id": "lYX6VxZQMGOm"
      },
      "source": [
        "yprep=da['Type_1']"
      ],
      "execution_count": null,
      "outputs": []
    },
    {
      "cell_type": "code",
      "metadata": {
        "colab": {
          "base_uri": "https://localhost:8080/"
        },
        "id": "-v0VjRn_MG5O",
        "outputId": "7790dbc4-8e41-4f0c-c889-831eea39714a"
      },
      "source": [
        "yprep=yprep.values\n",
        "yprep"
      ],
      "execution_count": null,
      "outputs": [
        {
          "output_type": "execute_result",
          "data": {
            "text/plain": [
              "array([ 9,  9,  9,  6,  6,  6, 17, 17, 17,  0,  0,  0,  0,  0,  0, 12, 12,\n",
              "       12, 12, 12, 12, 12, 13, 13,  3,  3, 10, 10, 13, 13, 13, 13, 13, 13,\n",
              "        4,  4,  6,  6, 12, 12, 13, 13,  9,  9,  9,  0,  0,  0,  0, 10, 10,\n",
              "       12, 12, 17, 17,  5,  5,  6,  6, 17, 17, 17, 14, 14, 14,  5,  5,  5,\n",
              "        9,  9,  9, 17, 17, 15, 15, 15,  6,  6, 17, 17,  3,  3, 12, 12, 12,\n",
              "       17, 17, 13, 13, 17, 17,  8,  8,  8, 15, 14, 14, 17, 17,  3,  3,  9,\n",
              "        9, 10, 10,  5,  5, 12, 13, 13, 10, 10, 12,  9, 12, 17, 17, 17, 17,\n",
              "       17, 17, 14,  0, 11,  3,  6,  0, 12, 17, 17, 17, 12, 12, 17,  3,  6,\n",
              "       12, 15, 15, 15, 15, 15, 12, 11,  3,  6,  2,  2,  2, 14, 14,  9,  9,\n",
              "        9,  6,  6,  6, 17, 17, 17, 12, 12, 12, 12,  0,  0,  0,  0, 13, 17,\n",
              "       17,  3,  4, 12,  4,  4, 14, 14,  3,  3,  3,  9, 17, 17, 15, 17,  9,\n",
              "        9,  9, 12,  9,  9,  0, 17, 17, 14,  1,  1, 17,  8, 14, 14, 12,  0,\n",
              "        0, 12, 10, 16,  4,  4, 17,  0,  0,  0,  1, 12, 12,  6,  6, 11, 11,\n",
              "       17, 17, 17, 11, 17, 16,  1,  1, 17, 10, 10, 12, 12, 12,  5,  5, 11,\n",
              "        3,  6, 12, 12,  3,  6, 17, 15, 15, 15, 14,  6, 14,  9,  9,  9,  6,\n",
              "        6,  6, 17, 17, 17,  1,  1, 12, 12,  0,  0,  0,  0,  0, 17, 17, 17,\n",
              "        9,  9,  9, 12, 12, 17, 17, 14, 14, 14,  0,  0,  9,  9, 12, 12, 12,\n",
              "        0,  0,  0, 12, 12, 12,  5,  5, 12, 15, 12, 12,  1, 16, 16, 16, 16,\n",
              "        5,  5,  3,  3,  3,  3,  0,  0,  9, 13, 13, 17, 17, 17, 17,  6,  6,\n",
              "        6, 14, 14, 12, 10, 10, 10,  9,  9, 12,  2, 12, 13, 15, 15, 17, 17,\n",
              "       17, 17, 10, 10, 15, 15, 15, 15, 17, 17, 12, 12,  8,  8,  8,  8,  9,\n",
              "       14,  1, 14, 11, 11, 11, 11, 11, 17, 17, 17, 17, 17,  2,  2,  2, 16,\n",
              "       16, 16, 15, 11, 16,  2,  2, 17, 10,  2, 16, 14,  9,  9,  9,  6,  6,\n",
              "        6, 17, 17, 17, 12, 12, 12, 12, 12,  0,  0,  3,  3,  3,  9,  9, 15,\n",
              "       15, 15, 15,  0,  0,  0,  0,  0,  3, 17, 17,  9,  9, 17, 17, 12,  8,\n",
              "        8, 12, 12,  8,  1, 12, 12, 14, 13, 13, 16, 16, 15, 14, 12, 12,  8,\n",
              "        2,  2,  2, 12,  5,  5, 10, 10, 13, 13, 13, 13,  9, 17, 17, 17,  9,\n",
              "        9,  1,  3, 12, 10,  9,  3,  6,  4,  0,  9, 11, 10, 11, 12, 14, 15,\n",
              "        8, 11,  3, 14, 14, 14, 16, 17,  6, 12,  8, 14, 17, 17,  1,  9, 12,\n",
              "       14,  9,  9,  9,  6,  6,  6, 17, 17, 17, 12, 12, 12, 12, 12,  1,  1,\n",
              "        9,  9,  6,  6, 17, 17, 14, 14, 12, 12, 12,  3,  3, 15, 15, 15, 14,\n",
              "       14, 10, 10, 12,  5,  5,  5, 17, 17, 17,  5,  5,  0,  0,  0,  0,  0,\n",
              "        0,  9,  9,  9,  9, 17, 10, 10, 10,  6,  6,  9,  0,  0,  1,  1, 14,\n",
              "        8,  8, 17, 17, 15, 15, 13, 13,  1,  1, 12, 12, 14, 14, 14, 14, 14,\n",
              "       14, 17, 17, 11, 11, 11, 12, 12,  3,  0,  0,  9,  9, 17, 17, 17,  0,\n",
              "        0,  9,  9, 16, 16, 16,  3,  3,  3, 14, 14,  8,  8,  8,  2,  2,  2,\n",
              "       11, 11, 11,  0,  0, 10,  5,  5,  2, 10, 10,  1,  1, 12, 12, 12,  1,\n",
              "        1,  6,  0,  1,  1,  1,  0,  0, 16, 15,  9,  7,  3,  2,  2, 10,  2,\n",
              "       17, 12,  0,  9,  9,  9,  6,  6,  6, 17, 17, 17, 12, 12, 12,  6,  6,\n",
              "        0,  0,  0,  6,  6,  4,  4,  4,  9,  9,  5,  5, 12, 14, 14, 16, 16,\n",
              "       16,  4,  4,  4,  4,  1,  1, 15, 15, 13, 13, 17, 17,  3,  3, 15, 15,\n",
              "       15, 15,  4,  5,  3, 15,  2,  2,  2, 16,  8,  8,  8,  8, 11, 11,  7,\n",
              "        7,  4,  1,  2, 15, 14,  6])"
            ]
          },
          "metadata": {
            "tags": []
          },
          "execution_count": 99
        }
      ]
    },
    {
      "cell_type": "code",
      "metadata": {
        "id": "CV5hBYWOMLNj",
        "colab": {
          "base_uri": "https://localhost:8080/",
          "height": 422
        },
        "outputId": "905d9e7e-7226-40bc-be09-5d78e491caeb"
      },
      "source": [
        "xprep=da.drop('Type_1',axis=1)\n",
        "xprep=da.drop('Name',axis=1)\n",
        "xprep"
      ],
      "execution_count": null,
      "outputs": [
        {
          "output_type": "execute_result",
          "data": {
            "text/html": [
              "<div>\n",
              "<style scoped>\n",
              "    .dataframe tbody tr th:only-of-type {\n",
              "        vertical-align: middle;\n",
              "    }\n",
              "\n",
              "    .dataframe tbody tr th {\n",
              "        vertical-align: top;\n",
              "    }\n",
              "\n",
              "    .dataframe thead th {\n",
              "        text-align: right;\n",
              "    }\n",
              "</style>\n",
              "<table border=\"1\" class=\"dataframe\">\n",
              "  <thead>\n",
              "    <tr style=\"text-align: right;\">\n",
              "      <th></th>\n",
              "      <th>Type_1</th>\n",
              "      <th>Type_2</th>\n",
              "      <th>Total</th>\n",
              "      <th>HP</th>\n",
              "      <th>Attack</th>\n",
              "      <th>Defense</th>\n",
              "      <th>Sp_Atk</th>\n",
              "      <th>Sp_Def</th>\n",
              "      <th>Speed</th>\n",
              "      <th>Generation</th>\n",
              "      <th>isLegendary</th>\n",
              "      <th>Color</th>\n",
              "      <th>hasGender</th>\n",
              "      <th>Pr_Male</th>\n",
              "      <th>Egg_Group_1</th>\n",
              "      <th>Egg_Group_2</th>\n",
              "      <th>hasMegaEvolution</th>\n",
              "      <th>Height_m</th>\n",
              "      <th>Weight_kg</th>\n",
              "      <th>Catch_Rate</th>\n",
              "      <th>Body_Style</th>\n",
              "    </tr>\n",
              "  </thead>\n",
              "  <tbody>\n",
              "    <tr>\n",
              "      <th>0</th>\n",
              "      <td>9</td>\n",
              "      <td>14</td>\n",
              "      <td>318.000000</td>\n",
              "      <td>45.0</td>\n",
              "      <td>49.0</td>\n",
              "      <td>49.0</td>\n",
              "      <td>65.0</td>\n",
              "      <td>65.0</td>\n",
              "      <td>45.000000</td>\n",
              "      <td>1</td>\n",
              "      <td>False</td>\n",
              "      <td>3</td>\n",
              "      <td>True</td>\n",
              "      <td>0.875000</td>\n",
              "      <td>10</td>\n",
              "      <td>6</td>\n",
              "      <td>False</td>\n",
              "      <td>0.71</td>\n",
              "      <td>6.9</td>\n",
              "      <td>45</td>\n",
              "      <td>9</td>\n",
              "    </tr>\n",
              "    <tr>\n",
              "      <th>1</th>\n",
              "      <td>9</td>\n",
              "      <td>14</td>\n",
              "      <td>405.000000</td>\n",
              "      <td>60.0</td>\n",
              "      <td>62.0</td>\n",
              "      <td>63.0</td>\n",
              "      <td>80.0</td>\n",
              "      <td>80.0</td>\n",
              "      <td>60.000000</td>\n",
              "      <td>1</td>\n",
              "      <td>False</td>\n",
              "      <td>3</td>\n",
              "      <td>True</td>\n",
              "      <td>0.875000</td>\n",
              "      <td>10</td>\n",
              "      <td>6</td>\n",
              "      <td>False</td>\n",
              "      <td>0.99</td>\n",
              "      <td>13.0</td>\n",
              "      <td>45</td>\n",
              "      <td>9</td>\n",
              "    </tr>\n",
              "    <tr>\n",
              "      <th>2</th>\n",
              "      <td>9</td>\n",
              "      <td>14</td>\n",
              "      <td>525.000000</td>\n",
              "      <td>80.0</td>\n",
              "      <td>82.0</td>\n",
              "      <td>83.0</td>\n",
              "      <td>100.0</td>\n",
              "      <td>100.0</td>\n",
              "      <td>80.000000</td>\n",
              "      <td>1</td>\n",
              "      <td>False</td>\n",
              "      <td>3</td>\n",
              "      <td>True</td>\n",
              "      <td>0.875000</td>\n",
              "      <td>10</td>\n",
              "      <td>6</td>\n",
              "      <td>True</td>\n",
              "      <td>2.01</td>\n",
              "      <td>100.0</td>\n",
              "      <td>45</td>\n",
              "      <td>9</td>\n",
              "    </tr>\n",
              "    <tr>\n",
              "      <th>3</th>\n",
              "      <td>6</td>\n",
              "      <td>12</td>\n",
              "      <td>309.000000</td>\n",
              "      <td>39.0</td>\n",
              "      <td>52.0</td>\n",
              "      <td>43.0</td>\n",
              "      <td>60.0</td>\n",
              "      <td>50.0</td>\n",
              "      <td>65.713287</td>\n",
              "      <td>1</td>\n",
              "      <td>False</td>\n",
              "      <td>7</td>\n",
              "      <td>True</td>\n",
              "      <td>0.875000</td>\n",
              "      <td>10</td>\n",
              "      <td>2</td>\n",
              "      <td>False</td>\n",
              "      <td>0.61</td>\n",
              "      <td>8.5</td>\n",
              "      <td>45</td>\n",
              "      <td>0</td>\n",
              "    </tr>\n",
              "    <tr>\n",
              "      <th>4</th>\n",
              "      <td>6</td>\n",
              "      <td>12</td>\n",
              "      <td>418.317797</td>\n",
              "      <td>58.0</td>\n",
              "      <td>64.0</td>\n",
              "      <td>58.0</td>\n",
              "      <td>80.0</td>\n",
              "      <td>65.0</td>\n",
              "      <td>80.000000</td>\n",
              "      <td>1</td>\n",
              "      <td>False</td>\n",
              "      <td>7</td>\n",
              "      <td>True</td>\n",
              "      <td>0.875000</td>\n",
              "      <td>10</td>\n",
              "      <td>2</td>\n",
              "      <td>False</td>\n",
              "      <td>1.09</td>\n",
              "      <td>19.0</td>\n",
              "      <td>45</td>\n",
              "      <td>0</td>\n",
              "    </tr>\n",
              "    <tr>\n",
              "      <th>...</th>\n",
              "      <td>...</td>\n",
              "      <td>...</td>\n",
              "      <td>...</td>\n",
              "      <td>...</td>\n",
              "      <td>...</td>\n",
              "      <td>...</td>\n",
              "      <td>...</td>\n",
              "      <td>...</td>\n",
              "      <td>...</td>\n",
              "      <td>...</td>\n",
              "      <td>...</td>\n",
              "      <td>...</td>\n",
              "      <td>...</td>\n",
              "      <td>...</td>\n",
              "      <td>...</td>\n",
              "      <td>...</td>\n",
              "      <td>...</td>\n",
              "      <td>...</td>\n",
              "      <td>...</td>\n",
              "      <td>...</td>\n",
              "      <td>...</td>\n",
              "    </tr>\n",
              "    <tr>\n",
              "      <th>716</th>\n",
              "      <td>1</td>\n",
              "      <td>7</td>\n",
              "      <td>680.000000</td>\n",
              "      <td>126.0</td>\n",
              "      <td>131.0</td>\n",
              "      <td>95.0</td>\n",
              "      <td>131.0</td>\n",
              "      <td>98.0</td>\n",
              "      <td>99.000000</td>\n",
              "      <td>6</td>\n",
              "      <td>True</td>\n",
              "      <td>7</td>\n",
              "      <td>False</td>\n",
              "      <td>0.553377</td>\n",
              "      <td>11</td>\n",
              "      <td>10</td>\n",
              "      <td>False</td>\n",
              "      <td>5.79</td>\n",
              "      <td>203.0</td>\n",
              "      <td>45</td>\n",
              "      <td>12</td>\n",
              "    </tr>\n",
              "    <tr>\n",
              "      <th>717</th>\n",
              "      <td>2</td>\n",
              "      <td>10</td>\n",
              "      <td>600.000000</td>\n",
              "      <td>108.0</td>\n",
              "      <td>100.0</td>\n",
              "      <td>121.0</td>\n",
              "      <td>81.0</td>\n",
              "      <td>95.0</td>\n",
              "      <td>95.000000</td>\n",
              "      <td>6</td>\n",
              "      <td>True</td>\n",
              "      <td>3</td>\n",
              "      <td>False</td>\n",
              "      <td>0.553377</td>\n",
              "      <td>11</td>\n",
              "      <td>10</td>\n",
              "      <td>False</td>\n",
              "      <td>5.00</td>\n",
              "      <td>305.0</td>\n",
              "      <td>3</td>\n",
              "      <td>10</td>\n",
              "    </tr>\n",
              "    <tr>\n",
              "      <th>718</th>\n",
              "      <td>15</td>\n",
              "      <td>4</td>\n",
              "      <td>600.000000</td>\n",
              "      <td>50.0</td>\n",
              "      <td>100.0</td>\n",
              "      <td>150.0</td>\n",
              "      <td>100.0</td>\n",
              "      <td>150.0</td>\n",
              "      <td>50.000000</td>\n",
              "      <td>6</td>\n",
              "      <td>True</td>\n",
              "      <td>5</td>\n",
              "      <td>False</td>\n",
              "      <td>0.553377</td>\n",
              "      <td>11</td>\n",
              "      <td>10</td>\n",
              "      <td>True</td>\n",
              "      <td>0.71</td>\n",
              "      <td>8.8</td>\n",
              "      <td>3</td>\n",
              "      <td>3</td>\n",
              "    </tr>\n",
              "    <tr>\n",
              "      <th>719</th>\n",
              "      <td>14</td>\n",
              "      <td>8</td>\n",
              "      <td>600.000000</td>\n",
              "      <td>80.0</td>\n",
              "      <td>110.0</td>\n",
              "      <td>60.0</td>\n",
              "      <td>150.0</td>\n",
              "      <td>130.0</td>\n",
              "      <td>70.000000</td>\n",
              "      <td>6</td>\n",
              "      <td>True</td>\n",
              "      <td>6</td>\n",
              "      <td>False</td>\n",
              "      <td>0.553377</td>\n",
              "      <td>11</td>\n",
              "      <td>10</td>\n",
              "      <td>False</td>\n",
              "      <td>0.51</td>\n",
              "      <td>9.0</td>\n",
              "      <td>3</td>\n",
              "      <td>6</td>\n",
              "    </tr>\n",
              "    <tr>\n",
              "      <th>720</th>\n",
              "      <td>6</td>\n",
              "      <td>18</td>\n",
              "      <td>600.000000</td>\n",
              "      <td>80.0</td>\n",
              "      <td>110.0</td>\n",
              "      <td>120.0</td>\n",
              "      <td>130.0</td>\n",
              "      <td>90.0</td>\n",
              "      <td>70.000000</td>\n",
              "      <td>6</td>\n",
              "      <td>True</td>\n",
              "      <td>2</td>\n",
              "      <td>False</td>\n",
              "      <td>0.553377</td>\n",
              "      <td>11</td>\n",
              "      <td>10</td>\n",
              "      <td>False</td>\n",
              "      <td>1.70</td>\n",
              "      <td>195.0</td>\n",
              "      <td>3</td>\n",
              "      <td>9</td>\n",
              "    </tr>\n",
              "  </tbody>\n",
              "</table>\n",
              "<p>721 rows × 21 columns</p>\n",
              "</div>"
            ],
            "text/plain": [
              "     Type_1  Type_2       Total  ...  Weight_kg  Catch_Rate  Body_Style\n",
              "0         9      14  318.000000  ...        6.9          45           9\n",
              "1         9      14  405.000000  ...       13.0          45           9\n",
              "2         9      14  525.000000  ...      100.0          45           9\n",
              "3         6      12  309.000000  ...        8.5          45           0\n",
              "4         6      12  418.317797  ...       19.0          45           0\n",
              "..      ...     ...         ...  ...        ...         ...         ...\n",
              "716       1       7  680.000000  ...      203.0          45          12\n",
              "717       2      10  600.000000  ...      305.0           3          10\n",
              "718      15       4  600.000000  ...        8.8           3           3\n",
              "719      14       8  600.000000  ...        9.0           3           6\n",
              "720       6      18  600.000000  ...      195.0           3           9\n",
              "\n",
              "[721 rows x 21 columns]"
            ]
          },
          "metadata": {
            "tags": []
          },
          "execution_count": 156
        }
      ]
    },
    {
      "cell_type": "code",
      "metadata": {
        "id": "89BcxV97E3Z9"
      },
      "source": [
        "from sklearn.model_selection import train_test_split\n",
        "x_train, x_test, y_train, y_test = train_test_split(xprep,yprep,test_size=0.20,random_state=42)"
      ],
      "execution_count": null,
      "outputs": []
    },
    {
      "cell_type": "code",
      "metadata": {
        "id": "RnzceX_PZegP"
      },
      "source": [
        "from sklearn.model_selection import train_test_split\n",
        "x_train, x_test, y_train, y_test = train_test_split(xms,ym,test_size=0.20,random_state=42)"
      ],
      "execution_count": null,
      "outputs": []
    },
    {
      "cell_type": "markdown",
      "metadata": {
        "id": "yC2iAxDkE3Z_"
      },
      "source": [
        "## KNN"
      ]
    },
    {
      "cell_type": "code",
      "metadata": {
        "colab": {
          "base_uri": "https://localhost:8080/"
        },
        "id": "FWZUg2I9E3aA",
        "outputId": "3b6a1ccd-48c1-47bd-af3f-29a04c38068a"
      },
      "source": [
        "from sklearn.neighbors import KNeighborsClassifier\n",
        "from sklearn import metrics\n",
        "KNN= KNeighborsClassifier(n_neighbors=10)\n",
        "KNN.fit(x_train, y_train)\n",
        "y_pred = KNN.predict(x_test)\n",
        "print(\"Accuracy:\",metrics.accuracy_score(y_test, y_pred))"
      ],
      "execution_count": null,
      "outputs": [
        {
          "output_type": "stream",
          "text": [
            "Accuracy: 0.20689655172413793\n"
          ],
          "name": "stdout"
        }
      ]
    },
    {
      "cell_type": "markdown",
      "metadata": {
        "id": "GJYnxepgE3aD"
      },
      "source": [
        "## SVM"
      ]
    },
    {
      "cell_type": "code",
      "metadata": {
        "id": "6VQYNSvyE3aE",
        "colab": {
          "base_uri": "https://localhost:8080/"
        },
        "outputId": "19f5419a-de7c-4ce7-d659-cc4c3c5af377"
      },
      "source": [
        "from sklearn import svm\n",
        "clf_svm = svm.SVC(kernel='linear')\n",
        "clf_svm.fit(x_train, y_train)\n",
        "y_pred = clf_svm.predict(x_test)\n",
        "print(\"Accuracy:\",metrics.accuracy_score(y_test, y_pred))"
      ],
      "execution_count": null,
      "outputs": [
        {
          "output_type": "stream",
          "text": [
            "Accuracy: 0.8482758620689655\n"
          ],
          "name": "stdout"
        }
      ]
    },
    {
      "cell_type": "markdown",
      "metadata": {
        "id": "_2IayikjE3aG"
      },
      "source": [
        "## DT"
      ]
    },
    {
      "cell_type": "code",
      "metadata": {
        "colab": {
          "base_uri": "https://localhost:8080/"
        },
        "id": "0fFxxFlGE3aH",
        "outputId": "4b54b746-830c-41ca-e717-aeff82cdc470"
      },
      "source": [
        "from sklearn.tree import DecisionTreeClassifier\n",
        "from sklearn import metrics\n",
        "DT = DecisionTreeClassifier()\n",
        "DT = DT.fit(x_train,y_train)\n",
        "y_pred = DT.predict(x_test)\n",
        "print(\"Accuracy:\",metrics.accuracy_score(y_test, y_pred))"
      ],
      "execution_count": null,
      "outputs": [
        {
          "output_type": "stream",
          "text": [
            "Accuracy: 0.993103448275862\n"
          ],
          "name": "stdout"
        }
      ]
    },
    {
      "cell_type": "markdown",
      "metadata": {
        "id": "xiv8sotAE3aI"
      },
      "source": [
        "## RF"
      ]
    },
    {
      "cell_type": "code",
      "metadata": {
        "colab": {
          "base_uri": "https://localhost:8080/"
        },
        "id": "XCKSbHT1E3aJ",
        "outputId": "d415d66f-7c24-495d-e17e-c0b8e986c5b9"
      },
      "source": [
        "from sklearn.ensemble import RandomForestClassifier\n",
        "from sklearn import metrics\n",
        "RF = RandomForestClassifier(random_state=0)\n",
        "RF = RF.fit(x_train,y_train)\n",
        "y_pred = RF.predict(x_test)\n",
        "print(\"Accuracy:\",metrics.accuracy_score(y_test, y_pred))"
      ],
      "execution_count": null,
      "outputs": [
        {
          "output_type": "stream",
          "text": [
            "Accuracy: 0.8482758620689655\n"
          ],
          "name": "stdout"
        }
      ]
    },
    {
      "cell_type": "markdown",
      "metadata": {
        "id": "efZv75neE3aJ"
      },
      "source": [
        "## Gradient Boosting"
      ]
    },
    {
      "cell_type": "code",
      "metadata": {
        "colab": {
          "base_uri": "https://localhost:8080/"
        },
        "id": "7EZa3aE5E3aK",
        "outputId": "93efe916-0540-4be6-edc8-6c4e4af7484f"
      },
      "source": [
        "from sklearn.ensemble import GradientBoostingClassifier\n",
        "from sklearn import metrics\n",
        "clf = GradientBoostingClassifier()\n",
        "clf = clf.fit(x_train,y_train)\n",
        "y_pred = clf.predict(x_test)\n",
        "print(\"Accuracy:\",metrics.accuracy_score(y_test, y_pred))"
      ],
      "execution_count": null,
      "outputs": [
        {
          "output_type": "stream",
          "text": [
            "Accuracy: 0.993103448275862\n"
          ],
          "name": "stdout"
        }
      ]
    },
    {
      "cell_type": "markdown",
      "metadata": {
        "id": "zg2cpEVXE3aL"
      },
      "source": [
        "## XGB Boost"
      ]
    },
    {
      "cell_type": "code",
      "metadata": {
        "colab": {
          "base_uri": "https://localhost:8080/"
        },
        "id": "VoP_RkGJE3aL",
        "outputId": "eab46ba6-a2d4-4d4e-f223-bcb80b00f180"
      },
      "source": [
        "import xgboost as xgb\n",
        "from sklearn import metrics\n",
        "clf = xgb.XGBClassifier()\n",
        "clf = clf.fit(x_train,y_train)\n",
        "y_pred = clf.predict(x_test)\n",
        "print(\"Accuracy:\",metrics.accuracy_score(y_test, y_pred))"
      ],
      "execution_count": null,
      "outputs": [
        {
          "output_type": "stream",
          "text": [
            "Accuracy: 0.993103448275862\n"
          ],
          "name": "stdout"
        }
      ]
    },
    {
      "cell_type": "markdown",
      "metadata": {
        "id": "XKrkbB59E3aM"
      },
      "source": [
        "## Bagging"
      ]
    },
    {
      "cell_type": "code",
      "metadata": {
        "colab": {
          "base_uri": "https://localhost:8080/"
        },
        "id": "X62_lnpPE3aM",
        "outputId": "e64640d0-6460-43c4-b261-9e95ab7bdc08"
      },
      "source": [
        "from sklearn.ensemble import BaggingClassifier\n",
        "bag_clf = BaggingClassifier()\n",
        "bag_clf=bag_clf.fit(x_train, y_train)\n",
        "y_pred = bag_clf.predict(x_test)\n",
        "print(\"Accuracy:\",metrics.accuracy_score(y_test, y_pred))"
      ],
      "execution_count": null,
      "outputs": [
        {
          "output_type": "stream",
          "text": [
            "Accuracy: 0.993103448275862\n"
          ],
          "name": "stdout"
        }
      ]
    },
    {
      "cell_type": "markdown",
      "metadata": {
        "id": "7VdVU1UqE3aN"
      },
      "source": [
        "## Ada Boost"
      ]
    },
    {
      "cell_type": "code",
      "metadata": {
        "colab": {
          "base_uri": "https://localhost:8080/"
        },
        "id": "4sZzfRPSE3aN",
        "outputId": "01e21c7c-c670-4f3a-96a5-18d787a02cbe"
      },
      "source": [
        "from sklearn.ensemble import AdaBoostClassifier\n",
        "from sklearn import metrics\n",
        "abc = AdaBoostClassifier()\n",
        "model = abc.fit(x_train, y_train)\n",
        "y_pred = model.predict(x_test)\n",
        "print(\"Accuracy:\",metrics.accuracy_score(y_test, y_pred))"
      ],
      "execution_count": null,
      "outputs": [
        {
          "output_type": "stream",
          "text": [
            "Accuracy: 0.6758620689655173\n"
          ],
          "name": "stdout"
        }
      ]
    },
    {
      "cell_type": "markdown",
      "metadata": {
        "id": "wTPxOdt4E3aO"
      },
      "source": [
        "## Ada Boost + Random Forest"
      ]
    },
    {
      "cell_type": "code",
      "metadata": {
        "colab": {
          "base_uri": "https://localhost:8080/"
        },
        "id": "Ej09XaNWE3aO",
        "outputId": "fe1f5b88-1ce2-492f-fce7-a5d481b9591b"
      },
      "source": [
        "from sklearn.ensemble import RandomForestClassifier\n",
        "clf=RandomForestClassifier(n_estimators=100)\n",
        "clf.fit(x_train,y_train)\n",
        "y_pred=clf.predict(x_test)\n",
        "print(\"Accuracy:\",metrics.accuracy_score(y_test, y_pred))"
      ],
      "execution_count": null,
      "outputs": [
        {
          "output_type": "stream",
          "text": [
            "Accuracy: 0.8551724137931035\n"
          ],
          "name": "stdout"
        }
      ]
    },
    {
      "cell_type": "markdown",
      "metadata": {
        "id": "3O61OMO8E3aP"
      },
      "source": [
        "## Naive Bayes Guassian Classifier"
      ]
    },
    {
      "cell_type": "code",
      "metadata": {
        "colab": {
          "base_uri": "https://localhost:8080/"
        },
        "id": "Ef6JKR8_E3aP",
        "outputId": "0c4751e8-1f5a-4d4b-8770-472f642584a3"
      },
      "source": [
        "from sklearn.model_selection import train_test_split\n",
        "from sklearn.naive_bayes import GaussianNB\n",
        "gnb = GaussianNB()\n",
        "y_pred = gnb.fit(x_train, y_train).predict(x_test)\n",
        "print(\"Accuracy:\",metrics.accuracy_score(y_test, y_pred))"
      ],
      "execution_count": null,
      "outputs": [
        {
          "output_type": "stream",
          "text": [
            "Accuracy: 0.993103448275862\n"
          ],
          "name": "stdout"
        }
      ]
    },
    {
      "cell_type": "markdown",
      "metadata": {
        "id": "XTNpkInZE3aQ"
      },
      "source": [
        "## Naive Bayes Multinomial Classifier"
      ]
    },
    {
      "cell_type": "code",
      "metadata": {
        "colab": {
          "base_uri": "https://localhost:8080/"
        },
        "id": "-n4rDB3NE3aQ",
        "outputId": "bdebf15f-8f54-47be-d40b-a19088cf72da"
      },
      "source": [
        "from sklearn.naive_bayes import MultinomialNB\n",
        "clf = MultinomialNB()\n",
        "clf.fit(x_train,y_train)\n",
        "y_pred=clf.predict(x_test)\n",
        "print(\"Accuracy:\",metrics.accuracy_score(y_test, y_pred))"
      ],
      "execution_count": null,
      "outputs": [
        {
          "output_type": "stream",
          "text": [
            "Accuracy: 0.0896551724137931\n"
          ],
          "name": "stdout"
        }
      ]
    },
    {
      "cell_type": "markdown",
      "metadata": {
        "id": "kOTlWdLSE3aR"
      },
      "source": [
        "## Single Classifier"
      ]
    },
    {
      "cell_type": "code",
      "metadata": {
        "id": "MxaPyVQJE3aR",
        "colab": {
          "base_uri": "https://localhost:8080/"
        },
        "outputId": "d756eb36-9380-4c78-cd02-47ffc60498e6"
      },
      "source": [
        "RF=RandomForestClassifier()\n",
        "Abc=AdaBoostClassifier(base_estimator=RF)     #ada\n",
        "bag_clf=BaggingClassifier(base_estimator=Abc)  #bagging\n",
        "bag_clf.fit(x_train, y_train)\n",
        "y_pred=bag_clf.predict(x_test)\n",
        "print(\"Accuracy:\",metrics.accuracy_score(y_test, y_pred))"
      ],
      "execution_count": null,
      "outputs": [
        {
          "output_type": "stream",
          "text": [
            "Accuracy: 0.8482758620689655\n"
          ],
          "name": "stdout"
        }
      ]
    },
    {
      "cell_type": "markdown",
      "metadata": {
        "id": "pmDEee-KE3aR"
      },
      "source": [
        "## Meta Classifier"
      ]
    },
    {
      "cell_type": "code",
      "metadata": {
        "id": "-M3VmSklE3aS",
        "colab": {
          "base_uri": "https://localhost:8080/"
        },
        "outputId": "a7e5cb46-b9d9-401d-b3ac-01f075fe7293"
      },
      "source": [
        "from sklearn.linear_model import LogisticRegression\n",
        "LR= LogisticRegression(random_state=0)\n",
        "LR.fit(x_train, y_train)"
      ],
      "execution_count": null,
      "outputs": [
        {
          "output_type": "stream",
          "text": [
            "/usr/local/lib/python3.6/dist-packages/sklearn/linear_model/_logistic.py:940: ConvergenceWarning: lbfgs failed to converge (status=1):\n",
            "STOP: TOTAL NO. of ITERATIONS REACHED LIMIT.\n",
            "\n",
            "Increase the number of iterations (max_iter) or scale the data as shown in:\n",
            "    https://scikit-learn.org/stable/modules/preprocessing.html\n",
            "Please also refer to the documentation for alternative solver options:\n",
            "    https://scikit-learn.org/stable/modules/linear_model.html#logistic-regression\n",
            "  extra_warning_msg=_LOGISTIC_SOLVER_CONVERGENCE_MSG)\n"
          ],
          "name": "stderr"
        },
        {
          "output_type": "execute_result",
          "data": {
            "text/plain": [
              "LogisticRegression(C=1.0, class_weight=None, dual=False, fit_intercept=True,\n",
              "                   intercept_scaling=1, l1_ratio=None, max_iter=100,\n",
              "                   multi_class='auto', n_jobs=None, penalty='l2',\n",
              "                   random_state=0, solver='lbfgs', tol=0.0001, verbose=0,\n",
              "                   warm_start=False)"
            ]
          },
          "metadata": {
            "tags": []
          },
          "execution_count": 260
        }
      ]
    },
    {
      "cell_type": "code",
      "metadata": {
        "id": "RF20WkauE3aS",
        "colab": {
          "base_uri": "https://localhost:8080/"
        },
        "outputId": "826abb06-352e-4dbb-c83f-66fdf52a3d8c"
      },
      "source": [
        "from sklearn.ensemble import StackingClassifier\n",
        "from mlxtend.classifier import StackingClassifier\n",
        "meta=StackingClassifier(classifiers=[DT,RF],meta_classifier=LR)\n",
        "meta.fit(x_train, y_train)\n",
        "y_pred=meta.predict(x_test)\n",
        "print(\"Accuracy:\",metrics.accuracy_score(y_test, y_pred))"
      ],
      "execution_count": null,
      "outputs": [
        {
          "output_type": "stream",
          "text": [
            "Accuracy: 0.6275862068965518\n"
          ],
          "name": "stdout"
        },
        {
          "output_type": "stream",
          "text": [
            "/usr/local/lib/python3.6/dist-packages/sklearn/linear_model/_logistic.py:940: ConvergenceWarning: lbfgs failed to converge (status=1):\n",
            "STOP: TOTAL NO. of ITERATIONS REACHED LIMIT.\n",
            "\n",
            "Increase the number of iterations (max_iter) or scale the data as shown in:\n",
            "    https://scikit-learn.org/stable/modules/preprocessing.html\n",
            "Please also refer to the documentation for alternative solver options:\n",
            "    https://scikit-learn.org/stable/modules/linear_model.html#logistic-regression\n",
            "  extra_warning_msg=_LOGISTIC_SOLVER_CONVERGENCE_MSG)\n"
          ],
          "name": "stderr"
        }
      ]
    },
    {
      "cell_type": "markdown",
      "metadata": {
        "id": "NzKj3GaaVpuX"
      },
      "source": [
        "# Plots"
      ]
    },
    {
      "cell_type": "code",
      "metadata": {
        "id": "CMGvUeklVtB2"
      },
      "source": [
        "import seaborn as sns\n",
        "import matplotlib.pyplot as plt\n",
        "sns.set_theme(style=\"ticks\", color_codes=True)"
      ],
      "execution_count": null,
      "outputs": []
    },
    {
      "cell_type": "code",
      "metadata": {
        "colab": {
          "base_uri": "https://localhost:8080/",
          "height": 215
        },
        "id": "771QYttSWIlH",
        "outputId": "73da95b3-6ed8-4919-ebd0-8960a6188fc4"
      },
      "source": [
        "data.head()"
      ],
      "execution_count": null,
      "outputs": [
        {
          "output_type": "execute_result",
          "data": {
            "text/html": [
              "<div>\n",
              "<style scoped>\n",
              "    .dataframe tbody tr th:only-of-type {\n",
              "        vertical-align: middle;\n",
              "    }\n",
              "\n",
              "    .dataframe tbody tr th {\n",
              "        vertical-align: top;\n",
              "    }\n",
              "\n",
              "    .dataframe thead th {\n",
              "        text-align: right;\n",
              "    }\n",
              "</style>\n",
              "<table border=\"1\" class=\"dataframe\">\n",
              "  <thead>\n",
              "    <tr style=\"text-align: right;\">\n",
              "      <th></th>\n",
              "      <th>Number</th>\n",
              "      <th>Name</th>\n",
              "      <th>Type_1</th>\n",
              "      <th>Type_2</th>\n",
              "      <th>Total</th>\n",
              "      <th>HP</th>\n",
              "      <th>Attack</th>\n",
              "      <th>Defense</th>\n",
              "      <th>Sp_Atk</th>\n",
              "      <th>Sp_Def</th>\n",
              "      <th>Speed</th>\n",
              "      <th>Generation</th>\n",
              "      <th>isLegendary</th>\n",
              "      <th>Color</th>\n",
              "      <th>hasGender</th>\n",
              "      <th>Pr_Male</th>\n",
              "      <th>Egg_Group_1</th>\n",
              "      <th>Egg_Group_2</th>\n",
              "      <th>hasMegaEvolution</th>\n",
              "      <th>Height_m</th>\n",
              "      <th>Weight_kg</th>\n",
              "      <th>Catch_Rate</th>\n",
              "      <th>Body_Style</th>\n",
              "    </tr>\n",
              "  </thead>\n",
              "  <tbody>\n",
              "    <tr>\n",
              "      <th>0</th>\n",
              "      <td>1</td>\n",
              "      <td>Bulbasaur</td>\n",
              "      <td>Grass</td>\n",
              "      <td>Poison</td>\n",
              "      <td>318.0</td>\n",
              "      <td>45.0</td>\n",
              "      <td>49.0</td>\n",
              "      <td>49.0</td>\n",
              "      <td>65.0</td>\n",
              "      <td>65.0</td>\n",
              "      <td>45.0</td>\n",
              "      <td>1</td>\n",
              "      <td>False</td>\n",
              "      <td>Green</td>\n",
              "      <td>True</td>\n",
              "      <td>0.875</td>\n",
              "      <td>Monster</td>\n",
              "      <td>Grass</td>\n",
              "      <td>False</td>\n",
              "      <td>0.71</td>\n",
              "      <td>6.9</td>\n",
              "      <td>45</td>\n",
              "      <td>quadruped</td>\n",
              "    </tr>\n",
              "    <tr>\n",
              "      <th>1</th>\n",
              "      <td>2</td>\n",
              "      <td>Ivysaur</td>\n",
              "      <td>Grass</td>\n",
              "      <td>Poison</td>\n",
              "      <td>405.0</td>\n",
              "      <td>60.0</td>\n",
              "      <td>62.0</td>\n",
              "      <td>63.0</td>\n",
              "      <td>80.0</td>\n",
              "      <td>80.0</td>\n",
              "      <td>60.0</td>\n",
              "      <td>1</td>\n",
              "      <td>False</td>\n",
              "      <td>Green</td>\n",
              "      <td>True</td>\n",
              "      <td>0.875</td>\n",
              "      <td>Monster</td>\n",
              "      <td>Grass</td>\n",
              "      <td>False</td>\n",
              "      <td>0.99</td>\n",
              "      <td>13.0</td>\n",
              "      <td>45</td>\n",
              "      <td>quadruped</td>\n",
              "    </tr>\n",
              "    <tr>\n",
              "      <th>2</th>\n",
              "      <td>3</td>\n",
              "      <td>Venusaur</td>\n",
              "      <td>Grass</td>\n",
              "      <td>Poison</td>\n",
              "      <td>525.0</td>\n",
              "      <td>80.0</td>\n",
              "      <td>82.0</td>\n",
              "      <td>83.0</td>\n",
              "      <td>100.0</td>\n",
              "      <td>100.0</td>\n",
              "      <td>80.0</td>\n",
              "      <td>1</td>\n",
              "      <td>False</td>\n",
              "      <td>Green</td>\n",
              "      <td>True</td>\n",
              "      <td>0.875</td>\n",
              "      <td>Monster</td>\n",
              "      <td>Grass</td>\n",
              "      <td>True</td>\n",
              "      <td>2.01</td>\n",
              "      <td>100.0</td>\n",
              "      <td>45</td>\n",
              "      <td>quadruped</td>\n",
              "    </tr>\n",
              "    <tr>\n",
              "      <th>3</th>\n",
              "      <td>4</td>\n",
              "      <td>Charmander</td>\n",
              "      <td>Fire</td>\n",
              "      <td>NaN</td>\n",
              "      <td>309.0</td>\n",
              "      <td>39.0</td>\n",
              "      <td>52.0</td>\n",
              "      <td>43.0</td>\n",
              "      <td>60.0</td>\n",
              "      <td>50.0</td>\n",
              "      <td>NaN</td>\n",
              "      <td>1</td>\n",
              "      <td>False</td>\n",
              "      <td>Red</td>\n",
              "      <td>True</td>\n",
              "      <td>0.875</td>\n",
              "      <td>Monster</td>\n",
              "      <td>Dragon</td>\n",
              "      <td>False</td>\n",
              "      <td>0.61</td>\n",
              "      <td>8.5</td>\n",
              "      <td>45</td>\n",
              "      <td>bipedal_tailed</td>\n",
              "    </tr>\n",
              "    <tr>\n",
              "      <th>4</th>\n",
              "      <td>5</td>\n",
              "      <td>Charmeleon</td>\n",
              "      <td>Fire</td>\n",
              "      <td>NaN</td>\n",
              "      <td>NaN</td>\n",
              "      <td>58.0</td>\n",
              "      <td>64.0</td>\n",
              "      <td>58.0</td>\n",
              "      <td>80.0</td>\n",
              "      <td>65.0</td>\n",
              "      <td>80.0</td>\n",
              "      <td>1</td>\n",
              "      <td>False</td>\n",
              "      <td>Red</td>\n",
              "      <td>True</td>\n",
              "      <td>0.875</td>\n",
              "      <td>Monster</td>\n",
              "      <td>Dragon</td>\n",
              "      <td>False</td>\n",
              "      <td>1.09</td>\n",
              "      <td>19.0</td>\n",
              "      <td>45</td>\n",
              "      <td>bipedal_tailed</td>\n",
              "    </tr>\n",
              "  </tbody>\n",
              "</table>\n",
              "</div>"
            ],
            "text/plain": [
              "   Number        Name Type_1  ... Weight_kg  Catch_Rate      Body_Style\n",
              "0       1   Bulbasaur  Grass  ...       6.9          45       quadruped\n",
              "1       2     Ivysaur  Grass  ...      13.0          45       quadruped\n",
              "2       3    Venusaur  Grass  ...     100.0          45       quadruped\n",
              "3       4  Charmander   Fire  ...       8.5          45  bipedal_tailed\n",
              "4       5  Charmeleon   Fire  ...      19.0          45  bipedal_tailed\n",
              "\n",
              "[5 rows x 23 columns]"
            ]
          },
          "metadata": {
            "tags": []
          },
          "execution_count": 201
        }
      ]
    },
    {
      "cell_type": "code",
      "metadata": {
        "colab": {
          "base_uri": "https://localhost:8080/",
          "height": 456
        },
        "id": "UNhNNH56YNs_",
        "outputId": "7a12b2e8-5ac2-441f-8478-b197624c8f20"
      },
      "source": [
        "sns.swarmplot(x=\"Generation\", y=\"Total\", data=data)"
      ],
      "execution_count": null,
      "outputs": [
        {
          "output_type": "stream",
          "text": [
            "/usr/local/lib/python3.6/dist-packages/seaborn/categorical.py:1296: UserWarning: 15.9% of the points cannot be placed; you may want to decrease the size of the markers or use stripplot.\n",
            "  warnings.warn(msg, UserWarning)\n",
            "/usr/local/lib/python3.6/dist-packages/seaborn/categorical.py:1296: UserWarning: 6.7% of the points cannot be placed; you may want to decrease the size of the markers or use stripplot.\n",
            "  warnings.warn(msg, UserWarning)\n",
            "/usr/local/lib/python3.6/dist-packages/seaborn/categorical.py:1296: UserWarning: 5.6% of the points cannot be placed; you may want to decrease the size of the markers or use stripplot.\n",
            "  warnings.warn(msg, UserWarning)\n",
            "/usr/local/lib/python3.6/dist-packages/seaborn/categorical.py:1296: UserWarning: 17.9% of the points cannot be placed; you may want to decrease the size of the markers or use stripplot.\n",
            "  warnings.warn(msg, UserWarning)\n"
          ],
          "name": "stderr"
        },
        {
          "output_type": "execute_result",
          "data": {
            "text/plain": [
              "<matplotlib.axes._subplots.AxesSubplot at 0x7f7aa3b1c278>"
            ]
          },
          "metadata": {
            "tags": []
          },
          "execution_count": 210
        },
        {
          "output_type": "display_data",
          "data": {
            "image/png": "[encoded data removed]",
            "text/plain": [
              "<Figure size 432x288 with 1 Axes>"
            ]
          },
          "metadata": {
            "tags": []
          }
        }
      ]
    },
    {
      "cell_type": "code",
      "metadata": {
        "colab": {
          "base_uri": "https://localhost:8080/",
          "height": 399
        },
        "id": "0HkwhiX5WE0M",
        "outputId": "5e0a3ca1-0294-40b8-bd8b-79a8faf458ff"
      },
      "source": [
        "sns.catplot(x=\"Type_1\", kind=\"count\", palette=\"ch:.25\", data=data)"
      ],
      "execution_count": null,
      "outputs": [
        {
          "output_type": "execute_result",
          "data": {
            "text/plain": [
              "<seaborn.axisgrid.FacetGrid at 0x7f7aa3537048>"
            ]
          },
          "metadata": {
            "tags": []
          },
          "execution_count": 209
        },
        {
          "output_type": "display_data",
          "data": {
            "image/png": "[encoded data removed]",
            "text/plain": [
              "<Figure size 360x360 with 1 Axes>"
            ]
          },
          "metadata": {
            "tags": []
          }
        }
      ]
    },
    {
      "cell_type": "code",
      "metadata": {
        "colab": {
          "base_uri": "https://localhost:8080/",
          "height": 399
        },
        "id": "jjluOTy8WXA6",
        "outputId": "cfdf2fbe-9b68-4791-c7f0-e7c304024c0d"
      },
      "source": [
        "sns.catplot(x=\"Color\", y=\"Pr_Male\", hue=\"isLegendary\", kind=\"bar\", data=data)"
      ],
      "execution_count": null,
      "outputs": [
        {
          "output_type": "execute_result",
          "data": {
            "text/plain": [
              "<seaborn.axisgrid.FacetGrid at 0x7f7aa3a8d0b8>"
            ]
          },
          "metadata": {
            "tags": []
          },
          "execution_count": 215
        },
        {
          "output_type": "display_data",
          "data": {
            "image/png": "[encoded data removed]",
            "text/plain": [
              "<Figure size 442.175x360 with 1 Axes>"
            ]
          },
          "metadata": {
            "tags": []
          }
        }
      ]
    }
  ]
}